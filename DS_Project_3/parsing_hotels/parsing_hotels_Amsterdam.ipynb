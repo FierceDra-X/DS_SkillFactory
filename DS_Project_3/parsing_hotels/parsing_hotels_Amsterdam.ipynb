{
 "cells": [
  {
   "cell_type": "code",
   "execution_count": 1,
   "id": "9781825f",
   "metadata": {},
   "outputs": [],
   "source": [
    "#библиотеки, необходимые для формирования запросов сайту и получение ответов\n",
    "#и поиска в полученной с сайта информации необхоимых для проекта данных\n",
    "from bs4 import BeautifulSoup\n",
    "import requests as req\n",
    "import lxml.html as html\n",
    "import urllib3\n",
    "\n",
    "import time #библиотека для установки паузы между запросами к сайту\n",
    "\n",
    "#общие библиотеки\n",
    "import pandas as pd\n",
    "import numpy as np\n",
    "\n",
    "import re"
   ]
  },
  {
   "cell_type": "code",
   "execution_count": 2,
   "id": "28c92023",
   "metadata": {},
   "outputs": [],
   "source": [
    "#формируем header для включения его в запросы, так как сайты могут блокировать запросы без него\n",
    "header = {'user-agent': 'Chrome/108.0.0.0'}\n",
    "urllib3.disable_warnings()"
   ]
  },
  {
   "cell_type": "code",
   "execution_count": 5,
   "id": "5eeba504",
   "metadata": {},
   "outputs": [],
   "source": [
    "url_star = 'https://www.booking.com/searchresults.en-us.html?label=gen173nr-1FCAEoggI46AdIM1gEaMIBiAEBmAExuAEXyAEM2AEB6AEB-AECiAIBqAIDuALlmsecBsACAdICJDFmMDhmM2QxLTMxYTAtNDMzMC05ODYwLTllNWU2M2EyMDZiN9gCBeACAQ&aid=304142&ss=Amsterdam&ssne=Vienna%2C+Austria&ssne_untouched=Vienna%2C+Austria&efdco=1&lang=en-us&src=searchresults&dest_id=-2140479&dest_type=city&ac_position=0&ac_click_type=b&ac_langcode=en&ac_suggestion_list_length=5&search_selected=true&search_pageview_id=8dd8525fef6400c2&ac_meta=GhA4ZGQ4NTI1ZmVmNjQwMGMyIAAoATICZW46CUFtc3RlcmRhbUAASgBQAA%3D%3D&group_adults=2&no_rooms=1&group_children=0&sb_travel_purpose=leisure&nflt=ht_id%3D204%3Bclass%3D'\n",
    "url_all_star = []\n",
    "\n",
    "for i in range(2):\n",
    "    url_all_star.append(url_star + str(i+4) + '&order=distance_from_search')"
   ]
  },
  {
   "cell_type": "code",
   "execution_count": 6,
   "id": "981f3359",
   "metadata": {},
   "outputs": [
    {
     "name": "stdout",
     "output_type": "stream",
     "text": [
      "134\n",
      "26\n"
     ]
    }
   ],
   "source": [
    "urls_hotel_4 = []\n",
    "urls_hotel_5 = []\n",
    "\n",
    "for star in range(6):\n",
    "    time.sleep(3)  \n",
    "    if star == 0:\n",
    "        \n",
    "        for i in range(0, 126, 25):\n",
    "            try:\n",
    "                response = req.get(url_all_star[star] + '&offset=' + str(i), headers=header, timeout=50, verify=False)\n",
    "                page = BeautifulSoup(response.text,'html.parser')\n",
    "            except:\n",
    "                print('Ошибка запроса')\n",
    "                \n",
    "                \n",
    "            for a in page.find_all('a', class_='e13098a59f'):\n",
    "                urls_hotel_4.append(a['href'])\n",
    "        time.sleep(3) \n",
    "    if star == 1:\n",
    "        for i in range(0, 26, 25):\n",
    "            try:\n",
    "                response = req.get(url_all_star[star] + '&offset=' + str(i), headers=header, timeout=50, verify=False)\n",
    "                page = BeautifulSoup(response.text,'html.parser')\n",
    "            except:\n",
    "                print('Ошибка запроса')\n",
    "                \n",
    "                \n",
    "            for a in page.find_all('a', class_='e13098a59f'):\n",
    "                urls_hotel_5.append(a['href'])\n",
    "        time.sleep(3)\n",
    "    \n",
    "\n",
    "\n",
    "print(len(urls_hotel_4))\n",
    "print(len(urls_hotel_5))"
   ]
  },
  {
   "cell_type": "code",
   "execution_count": 7,
   "id": "4b58a9cc",
   "metadata": {},
   "outputs": [
    {
     "name": "stdout",
     "output_type": "stream",
     "text": [
      "134\n",
      "26\n"
     ]
    }
   ],
   "source": [
    "urls_hotel_4_en = []\n",
    "urls_hotel_5_en = []\n",
    "\n",
    "    \n",
    "for i in range(len(urls_hotel_4)):\n",
    "    parts = urls_hotel_4[i].split('hapos=' + str(i+1))\n",
    "    urls_hotel_4_en.append(parts[0] + ('hapos=' + str(i+1)) + '&lang=en-us' + parts[1])\n",
    "    \n",
    "for i in range(len(urls_hotel_5)):\n",
    "    parts = urls_hotel_5[i].split('hapos=' + str(i+1))\n",
    "    urls_hotel_5_en.append(parts[0] + ('hapos=' + str(i+1)) + '&lang=en-us' + parts[1])\n",
    "\n",
    "\n",
    "print(len(urls_hotel_4_en))\n",
    "print(len(urls_hotel_5_en))"
   ]
  },
  {
   "cell_type": "code",
   "execution_count": 8,
   "id": "70d5f132",
   "metadata": {},
   "outputs": [
    {
     "name": "stdout",
     "output_type": "stream",
     "text": [
      "ошибка запроса\n",
      "ошибка запроса\n",
      "ошибка запроса\n",
      "ошибка запроса\n",
      "ошибка запроса\n",
      "ошибка запроса\n",
      "ошибка запроса\n",
      "ошибка запроса\n",
      "ошибка запроса\n"
     ]
    }
   ],
   "source": [
    "data_array_full = np.empty(4, 'str')\n",
    "\n",
    "tags = ['span', 'div', 'div']\n",
    "classes = ['hp_address_subtitle js-hp_address_subtitle jq_tooltip', 'd8eab2cf7f c90c0a70d3 db63693c62',\n",
    "           'b5cd09854e f0d4d6a2f5 e46e88563a']\n",
    "\n",
    "all_star_url = [urls_hotel_4_en, urls_hotel_5_en]\n",
    "\n",
    "\n",
    "count_star_0 = 3\n",
    "\n",
    "for urls in all_star_url:\n",
    "    count_star_0 += 1\n",
    "    for url in urls:\n",
    "        try:\n",
    "            response = req.get(url, headers=header, timeout=50, verify=False)\n",
    "            page = BeautifulSoup(response.text,'html.parser')\n",
    "        except:\n",
    "            print('ошибка запроса')\n",
    "        \n",
    "    \n",
    "        data = []\n",
    "        data.append(count_star_0)\n",
    "        for i in range(3):\n",
    "            try:\n",
    "                elem = page.find_all(tags[i], classes[i])\n",
    "                elem = elem[0].text\n",
    "            except:\n",
    "                elem = np.NaN\n",
    "        \n",
    "                \n",
    "            data.append(elem)\n",
    "            \n",
    "        data_array = np.asarray(data).reshape(1,4)\n",
    "        data_array_full = np.row_stack((data_array_full,data_array))\n",
    "    \n",
    "        time.sleep(3)"
   ]
  },
  {
   "cell_type": "code",
   "execution_count": 88,
   "id": "4d9158aa",
   "metadata": {},
   "outputs": [
    {
     "data": {
      "text/html": [
       "<div>\n",
       "<style scoped>\n",
       "    .dataframe tbody tr th:only-of-type {\n",
       "        vertical-align: middle;\n",
       "    }\n",
       "\n",
       "    .dataframe tbody tr th {\n",
       "        vertical-align: top;\n",
       "    }\n",
       "\n",
       "    .dataframe thead th {\n",
       "        text-align: right;\n",
       "    }\n",
       "</style>\n",
       "<table border=\"1\" class=\"dataframe\">\n",
       "  <thead>\n",
       "    <tr style=\"text-align: right;\">\n",
       "      <th></th>\n",
       "      <th>hotel_star</th>\n",
       "      <th>hotel_address</th>\n",
       "      <th>reviews_count</th>\n",
       "      <th>quality</th>\n",
       "    </tr>\n",
       "  </thead>\n",
       "  <tbody>\n",
       "    <tr>\n",
       "      <th>0</th>\n",
       "      <td></td>\n",
       "      <td></td>\n",
       "      <td></td>\n",
       "      <td></td>\n",
       "    </tr>\n",
       "    <tr>\n",
       "      <th>1</th>\n",
       "      <td>4</td>\n",
       "      <td>\\nDamrak 96, Amsterdam City Center, 1012 LP Am...</td>\n",
       "      <td>1,896 reviews</td>\n",
       "      <td>Excellent</td>\n",
       "    </tr>\n",
       "    <tr>\n",
       "      <th>2</th>\n",
       "      <td>4</td>\n",
       "      <td>\\nDam 9, Amsterdam City Center, 1012 JS Amster...</td>\n",
       "      <td>181 reviews</td>\n",
       "      <td>Very Good</td>\n",
       "    </tr>\n",
       "    <tr>\n",
       "      <th>3</th>\n",
       "      <td>4</td>\n",
       "      <td>\\nDamrak 93-94, Amsterdam City Center, 1012 LP...</td>\n",
       "      <td>1,799 reviews</td>\n",
       "      <td>Good</td>\n",
       "    </tr>\n",
       "    <tr>\n",
       "      <th>4</th>\n",
       "      <td>4</td>\n",
       "      <td>\\nNieuwezijds Voorburgwal 176 - 180, Amsterdam...</td>\n",
       "      <td>1,728 reviews</td>\n",
       "      <td>Very Good</td>\n",
       "    </tr>\n",
       "    <tr>\n",
       "      <th>...</th>\n",
       "      <td>...</td>\n",
       "      <td>...</td>\n",
       "      <td>...</td>\n",
       "      <td>...</td>\n",
       "    </tr>\n",
       "    <tr>\n",
       "      <th>156</th>\n",
       "      <td>5</td>\n",
       "      <td>\\nAmsteldijk 67, Oud Zuid, 1074 HZ Amsterdam, ...</td>\n",
       "      <td>3,664 reviews</td>\n",
       "      <td>Excellent</td>\n",
       "    </tr>\n",
       "    <tr>\n",
       "      <th>157</th>\n",
       "      <td>5</td>\n",
       "      <td>\\nFerdinand Bolstraat 333, Oud Zuid, 1072 LH A...</td>\n",
       "      <td>864 reviews</td>\n",
       "      <td>Excellent</td>\n",
       "    </tr>\n",
       "    <tr>\n",
       "      <th>158</th>\n",
       "      <td>5</td>\n",
       "      <td>\\nDijsselhofplantsoen 7, Oud Zuid, 1077 BJ Ams...</td>\n",
       "      <td>1,065 reviews</td>\n",
       "      <td>Good</td>\n",
       "    </tr>\n",
       "    <tr>\n",
       "      <th>159</th>\n",
       "      <td>5</td>\n",
       "      <td>\\nApollolaan 138, Oud Zuid, 1077 BG Amsterdam,...</td>\n",
       "      <td>655 reviews</td>\n",
       "      <td>Very Good</td>\n",
       "    </tr>\n",
       "    <tr>\n",
       "      <th>160</th>\n",
       "      <td>5</td>\n",
       "      <td>\\nNDSM-plein 78, Amsterdam Noord, 1033 WB Amst...</td>\n",
       "      <td>24 reviews</td>\n",
       "      <td>Very Good</td>\n",
       "    </tr>\n",
       "  </tbody>\n",
       "</table>\n",
       "<p>161 rows × 4 columns</p>\n",
       "</div>"
      ],
      "text/plain": [
       "    hotel_star                                      hotel_address  \\\n",
       "0                                                                   \n",
       "1            4  \\nDamrak 96, Amsterdam City Center, 1012 LP Am...   \n",
       "2            4  \\nDam 9, Amsterdam City Center, 1012 JS Amster...   \n",
       "3            4  \\nDamrak 93-94, Amsterdam City Center, 1012 LP...   \n",
       "4            4  \\nNieuwezijds Voorburgwal 176 - 180, Amsterdam...   \n",
       "..         ...                                                ...   \n",
       "156          5  \\nAmsteldijk 67, Oud Zuid, 1074 HZ Amsterdam, ...   \n",
       "157          5  \\nFerdinand Bolstraat 333, Oud Zuid, 1072 LH A...   \n",
       "158          5  \\nDijsselhofplantsoen 7, Oud Zuid, 1077 BJ Ams...   \n",
       "159          5  \\nApollolaan 138, Oud Zuid, 1077 BG Amsterdam,...   \n",
       "160          5  \\nNDSM-plein 78, Amsterdam Noord, 1033 WB Amst...   \n",
       "\n",
       "     reviews_count     quality  \n",
       "0                               \n",
       "1    1,896 reviews  Excellent   \n",
       "2      181 reviews  Very Good   \n",
       "3    1,799 reviews       Good   \n",
       "4    1,728 reviews  Very Good   \n",
       "..             ...         ...  \n",
       "156  3,664 reviews  Excellent   \n",
       "157    864 reviews  Excellent   \n",
       "158  1,065 reviews       Good   \n",
       "159    655 reviews  Very Good   \n",
       "160     24 reviews  Very Good   \n",
       "\n",
       "[161 rows x 4 columns]"
      ]
     },
     "execution_count": 88,
     "metadata": {},
     "output_type": "execute_result"
    }
   ],
   "source": [
    "columns = np.array(['hotel_star', 'hotel_address','reviews_count','quality'])\n",
    "hotel_amsterdam = pd.DataFrame(data=data_array_full, columns=columns)\n",
    "hotel_amsterdam.replace('nan', np.NaN, inplace=True)\n",
    "hotel_amsterdam = hotel_amsterdam.dropna(thresh=2).reset_index(drop=True)\n",
    "hotel_amsterdam"
   ]
  },
  {
   "cell_type": "code",
   "execution_count": 90,
   "id": "93ea18ac",
   "metadata": {},
   "outputs": [
    {
     "data": {
      "text/plain": [
       "(386803, 57)"
      ]
     },
     "execution_count": 90,
     "metadata": {},
     "output_type": "execute_result"
    }
   ],
   "source": [
    "hotel_df = pd.read_csv('C:/Users/Dmitriy/Desktop/SkillFactory/project_3/hotels.csv', sep=',')\n",
    "hotel_df.shape"
   ]
  },
  {
   "cell_type": "code",
   "execution_count": 91,
   "id": "05609f08",
   "metadata": {},
   "outputs": [],
   "source": [
    "hotel_amsterdam['hotel_address'] = hotel_amsterdam['hotel_address'].apply(\n",
    "    lambda x: re.sub(\"[^0-9a-zA-Z]\",\" \",x).strip().lower().replace(' ', ''))"
   ]
  },
  {
   "cell_type": "code",
   "execution_count": 96,
   "id": "06386c86",
   "metadata": {},
   "outputs": [],
   "source": [
    "hotel_df['hotel_address'] = hotel_df['hotel_address'].apply(\n",
    "    lambda x: x.lower().replace(' ', ''))"
   ]
  },
  {
   "cell_type": "code",
   "execution_count": 98,
   "id": "3c5a19fd",
   "metadata": {},
   "outputs": [],
   "source": [
    "hotel_df = hotel_df.merge(\n",
    "                hotel_amsterdam,\n",
    "                on='hotel_address',\n",
    "                how='left')"
   ]
  },
  {
   "cell_type": "code",
   "execution_count": 99,
   "id": "95a7a2ae",
   "metadata": {},
   "outputs": [
    {
     "data": {
      "text/plain": [
       "hotel_star       20.532019\n",
       "reviews_count    20.532019\n",
       "quality          20.532019\n",
       "dtype: float64"
      ]
     },
     "execution_count": 99,
     "metadata": {},
     "output_type": "execute_result"
    }
   ],
   "source": [
    "null = hotel_df[hotel_df['city_hotel'] == 'Amsterdam'].isnull().mean() * 100\n",
    "null_per = null[null > 0]\n",
    "null_per"
   ]
  },
  {
   "cell_type": "code",
   "execution_count": 92,
   "id": "8a0da98d",
   "metadata": {},
   "outputs": [
    {
     "name": "stdout",
     "output_type": "stream",
     "text": [
      "Число найденных дубликатов: 9\n"
     ]
    }
   ],
   "source": [
    "dupl_columns = list(hotel_amsterdam.columns) \n",
    "\n",
    "mask = hotel_amsterdam.duplicated(subset=dupl_columns) \n",
    "hotel_duplicates = hotel_amsterdam[mask]\n",
    "print(f'Число найденных дубликатов: {hotel_duplicates.shape[0]}')"
   ]
  },
  {
   "cell_type": "code",
   "execution_count": 93,
   "id": "f2ff6ab7",
   "metadata": {},
   "outputs": [
    {
     "name": "stdout",
     "output_type": "stream",
     "text": [
      "Результирующее число записей: 152\n"
     ]
    }
   ],
   "source": [
    "hotel_amsterdam = hotel_amsterdam.drop_duplicates(subset=dupl_columns)\n",
    "print(f'Результирующее число записей: {hotel_amsterdam.shape[0]}')"
   ]
  },
  {
   "cell_type": "code",
   "execution_count": 101,
   "id": "64326fc3",
   "metadata": {},
   "outputs": [],
   "source": [
    "hotel_amsterdam.to_csv('C:/Users/Dmitriy/Desktop/SkillFactory/project_3/parsing_hotels/hotel_amsterdam.csv')"
   ]
  },
  {
   "cell_type": "code",
   "execution_count": null,
   "id": "72ba38bb",
   "metadata": {},
   "outputs": [],
   "source": []
  }
 ],
 "metadata": {
  "kernelspec": {
   "display_name": "Python 3 (ipykernel)",
   "language": "python",
   "name": "python3"
  },
  "language_info": {
   "codemirror_mode": {
    "name": "ipython",
    "version": 3
   },
   "file_extension": ".py",
   "mimetype": "text/x-python",
   "name": "python",
   "nbconvert_exporter": "python",
   "pygments_lexer": "ipython3",
   "version": "3.9.12"
  }
 },
 "nbformat": 4,
 "nbformat_minor": 5
}
