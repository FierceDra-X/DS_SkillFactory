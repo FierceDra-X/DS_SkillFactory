{
 "cells": [
  {
   "cell_type": "code",
   "execution_count": 2,
   "id": "f23c3db9",
   "metadata": {},
   "outputs": [],
   "source": [
    "#библиотеки, необходимые для формирования запросов сайту и получение ответов\n",
    "#и поиска в полученной с сайта информации необхоимых для проекта данных\n",
    "from bs4 import BeautifulSoup\n",
    "import requests as req\n",
    "import lxml.html as html\n",
    "import urllib3\n",
    "\n",
    "import time #библиотека для установки паузы между запросами к сайту\n",
    "\n",
    "#общие библиотеки\n",
    "import pandas as pd\n",
    "import numpy as np\n",
    "\n",
    "import re"
   ]
  },
  {
   "cell_type": "code",
   "execution_count": 3,
   "id": "3eb81d38",
   "metadata": {},
   "outputs": [],
   "source": [
    "#формируем header для включения его в запросы, так как сайты могут блокировать запросы без него\n",
    "header = {'user-agent': 'Chrome/108.0.0.0'}\n",
    "urllib3.disable_warnings()"
   ]
  },
  {
   "cell_type": "code",
   "execution_count": 4,
   "id": "32aaa689",
   "metadata": {},
   "outputs": [],
   "source": [
    "url_star = 'https://www.booking.com/searchresults.en-us.html?label=gen173nr-1FCAEoggI46AdIM1gEaMIBiAEBmAExuAEXyAEM2AEB6AEB-AECiAIBqAIDuALlmsecBsACAdICJDFmMDhmM2QxLTMxYTAtNDMzMC05ODYwLTllNWU2M2EyMDZiN9gCBeACAQ&aid=304142&ss=Paris%2C+Ile+de+France%2C+France&ssne=Amsterdam&ssne_untouched=Amsterdam&efdco=1&lang=en-us&src=searchresults&dest_id=-1456928&dest_type=city&ac_position=0&ac_click_type=b&ac_langcode=en&ac_suggestion_list_length=5&search_selected=true&search_pageview_id=d7cc527a560c0272&ac_meta=GhBkN2NjNTI3YTU2MGMwMjcyIAAoATICZW46BVBhcmlzQABKAFAA&group_adults=2&no_rooms=1&group_children=0&sb_travel_purpose=leisure&nflt=ht_id%3D204%3Bclass%3D'\n",
    "url_all_star = []\n",
    "\n",
    "for i in range(2):\n",
    "    url_all_star.append(url_star + str(i+4) + '&order=distance_from_search')"
   ]
  },
  {
   "cell_type": "code",
   "execution_count": 5,
   "id": "e05f7e0b",
   "metadata": {},
   "outputs": [
    {
     "name": "stdout",
     "output_type": "stream",
     "text": [
      "527\n",
      "105\n"
     ]
    }
   ],
   "source": [
    "urls_hotel_4 = []\n",
    "urls_hotel_5 = []\n",
    "\n",
    "for star in range(2):\n",
    "    time.sleep(3)  \n",
    "    if star == 0:\n",
    "        \n",
    "        for i in range(0, 526, 25):\n",
    "            try:\n",
    "                response = req.get(url_all_star[star] + '&offset=' + str(i), headers=header, timeout=50, verify=False)\n",
    "                page = BeautifulSoup(response.text,'html.parser')\n",
    "            except:\n",
    "                print('Ошибка запроса')\n",
    "                \n",
    "                \n",
    "            for a in page.find_all('a', class_='e13098a59f'):\n",
    "                urls_hotel_4.append(a['href'])\n",
    "        time.sleep(3) \n",
    "    if star == 1:\n",
    "        for i in range(0, 101, 25):\n",
    "            try:\n",
    "                response = req.get(url_all_star[star] + '&offset=' + str(i), headers=header, timeout=50, verify=False)\n",
    "                page = BeautifulSoup(response.text,'html.parser')\n",
    "            except:\n",
    "                print('Ошибка запроса')\n",
    "                \n",
    "                \n",
    "            for a in page.find_all('a', class_='e13098a59f'):\n",
    "                urls_hotel_5.append(a['href'])\n",
    "        time.sleep(3)\n",
    "    \n",
    "\n",
    "\n",
    "print(len(urls_hotel_4))\n",
    "print(len(urls_hotel_5))"
   ]
  },
  {
   "cell_type": "code",
   "execution_count": 6,
   "id": "8ff3c238",
   "metadata": {},
   "outputs": [
    {
     "name": "stdout",
     "output_type": "stream",
     "text": [
      "527\n",
      "105\n"
     ]
    }
   ],
   "source": [
    "urls_hotel_4_en = []\n",
    "urls_hotel_5_en = []\n",
    "\n",
    "    \n",
    "for i in range(len(urls_hotel_4)):\n",
    "    parts = urls_hotel_4[i].split('hapos=' + str(i+1))\n",
    "    urls_hotel_4_en.append(parts[0] + ('hapos=' + str(i+1)) + '&lang=en-us' + parts[1])\n",
    "    \n",
    "for i in range(len(urls_hotel_5)):\n",
    "    parts = urls_hotel_5[i].split('hapos=' + str(i+1))\n",
    "    urls_hotel_5_en.append(parts[0] + ('hapos=' + str(i+1)) + '&lang=en-us' + parts[1])\n",
    "\n",
    "\n",
    "print(len(urls_hotel_4_en))\n",
    "print(len(urls_hotel_5_en))"
   ]
  },
  {
   "cell_type": "code",
   "execution_count": 7,
   "id": "4f57fdf3",
   "metadata": {},
   "outputs": [
    {
     "name": "stdout",
     "output_type": "stream",
     "text": [
      "ошибка запроса\n",
      "ошибка запроса\n",
      "ошибка запроса\n",
      "ошибка запроса\n",
      "ошибка запроса\n",
      "ошибка запроса\n",
      "ошибка запроса\n",
      "ошибка запроса\n",
      "ошибка запроса\n",
      "ошибка запроса\n",
      "ошибка запроса\n",
      "ошибка запроса\n",
      "ошибка запроса\n",
      "ошибка запроса\n",
      "ошибка запроса\n",
      "ошибка запроса\n",
      "ошибка запроса\n",
      "ошибка запроса\n",
      "ошибка запроса\n",
      "ошибка запроса\n",
      "ошибка запроса\n",
      "ошибка запроса\n",
      "ошибка запроса\n",
      "ошибка запроса\n",
      "ошибка запроса\n",
      "ошибка запроса\n"
     ]
    }
   ],
   "source": [
    "data_array_full = np.empty(4, 'str')\n",
    "\n",
    "tags = ['span', 'div', 'div']\n",
    "classes = ['hp_address_subtitle js-hp_address_subtitle jq_tooltip', 'd8eab2cf7f c90c0a70d3 db63693c62',\n",
    "           'b5cd09854e f0d4d6a2f5 e46e88563a']\n",
    "\n",
    "all_star_url = [urls_hotel_4_en, urls_hotel_5_en]\n",
    "\n",
    "\n",
    "count_star_0 = 3\n",
    "\n",
    "for urls in all_star_url:\n",
    "    count_star_0 += 1\n",
    "    for url in urls:\n",
    "        try:\n",
    "            response = req.get(url, headers=header, timeout=50, verify=False)\n",
    "            page = BeautifulSoup(response.text,'html.parser')\n",
    "        except:\n",
    "            print('ошибка запроса')\n",
    "        \n",
    "    \n",
    "        data = []\n",
    "        data.append(count_star_0)\n",
    "        for i in range(3):\n",
    "            try:\n",
    "                elem = page.find_all(tags[i], classes[i])\n",
    "                elem = elem[0].text\n",
    "            except:\n",
    "                elem = np.NaN\n",
    "        \n",
    "                \n",
    "            data.append(elem)\n",
    "            \n",
    "        data_array = np.asarray(data).reshape(1,4)\n",
    "        data_array_full = np.row_stack((data_array_full,data_array))\n",
    "    \n",
    "        time.sleep(3)"
   ]
  },
  {
   "cell_type": "code",
   "execution_count": 50,
   "id": "cf648d77",
   "metadata": {},
   "outputs": [
    {
     "data": {
      "text/html": [
       "<div>\n",
       "<style scoped>\n",
       "    .dataframe tbody tr th:only-of-type {\n",
       "        vertical-align: middle;\n",
       "    }\n",
       "\n",
       "    .dataframe tbody tr th {\n",
       "        vertical-align: top;\n",
       "    }\n",
       "\n",
       "    .dataframe thead th {\n",
       "        text-align: right;\n",
       "    }\n",
       "</style>\n",
       "<table border=\"1\" class=\"dataframe\">\n",
       "  <thead>\n",
       "    <tr style=\"text-align: right;\">\n",
       "      <th></th>\n",
       "      <th>hotel_star</th>\n",
       "      <th>hotel_address</th>\n",
       "      <th>reviews_count</th>\n",
       "      <th>quality</th>\n",
       "    </tr>\n",
       "  </thead>\n",
       "  <tbody>\n",
       "    <tr>\n",
       "      <th>0</th>\n",
       "      <td></td>\n",
       "      <td></td>\n",
       "      <td></td>\n",
       "      <td></td>\n",
       "    </tr>\n",
       "    <tr>\n",
       "      <th>1</th>\n",
       "      <td>4</td>\n",
       "      <td>\\n11 Rue Du Temple, 4th arr., 75004 Paris, Fra...</td>\n",
       "      <td>554 reviews</td>\n",
       "      <td>Very Good</td>\n",
       "    </tr>\n",
       "    <tr>\n",
       "      <th>2</th>\n",
       "      <td>4</td>\n",
       "      <td>\\n19 Rue du Bourg Tibourg, 4th arr., 75004 Par...</td>\n",
       "      <td>207 reviews</td>\n",
       "      <td>Excellent</td>\n",
       "    </tr>\n",
       "    <tr>\n",
       "      <th>3</th>\n",
       "      <td>4</td>\n",
       "      <td>\\nRue Sainte-Croix de la Bretonnerie, 4th arr....</td>\n",
       "      <td>17 reviews</td>\n",
       "      <td>Very Good</td>\n",
       "    </tr>\n",
       "    <tr>\n",
       "      <th>4</th>\n",
       "      <td>4</td>\n",
       "      <td>\\n58 Rue du Roi de Sicile, 4th arr., 75004 Par...</td>\n",
       "      <td>368 reviews</td>\n",
       "      <td>Excellent</td>\n",
       "    </tr>\n",
       "    <tr>\n",
       "      <th>...</th>\n",
       "      <td>...</td>\n",
       "      <td>...</td>\n",
       "      <td>...</td>\n",
       "      <td>...</td>\n",
       "    </tr>\n",
       "    <tr>\n",
       "      <th>628</th>\n",
       "      <td>5</td>\n",
       "      <td>\\n10 Place De Mexico, 16th arr., 75016 Paris, ...</td>\n",
       "      <td>56 reviews</td>\n",
       "      <td>Good</td>\n",
       "    </tr>\n",
       "    <tr>\n",
       "      <th>629</th>\n",
       "      <td>5</td>\n",
       "      <td>\\n3 Rue De Boulainvilliers, 16th arr., 75016 P...</td>\n",
       "      <td>559 reviews</td>\n",
       "      <td>Very Good</td>\n",
       "    </tr>\n",
       "    <tr>\n",
       "      <th>630</th>\n",
       "      <td>5</td>\n",
       "      <td>\\n5 place du Chancelier Adenauer, 16th arr., 7...</td>\n",
       "      <td>89 reviews</td>\n",
       "      <td>Wonderful</td>\n",
       "    </tr>\n",
       "    <tr>\n",
       "      <th>631</th>\n",
       "      <td>5</td>\n",
       "      <td>\\n1-7 Rue Jean Richepin, 16th arr., 75116 Pari...</td>\n",
       "      <td>432 reviews</td>\n",
       "      <td>Wonderful</td>\n",
       "    </tr>\n",
       "    <tr>\n",
       "      <th>632</th>\n",
       "      <td>5</td>\n",
       "      <td>\\n13, rue Nungesser et Coli, 16th arr., 75016 ...</td>\n",
       "      <td>852 reviews</td>\n",
       "      <td>Very Good</td>\n",
       "    </tr>\n",
       "  </tbody>\n",
       "</table>\n",
       "<p>633 rows × 4 columns</p>\n",
       "</div>"
      ],
      "text/plain": [
       "    hotel_star                                      hotel_address  \\\n",
       "0                                                                   \n",
       "1            4  \\n11 Rue Du Temple, 4th arr., 75004 Paris, Fra...   \n",
       "2            4  \\n19 Rue du Bourg Tibourg, 4th arr., 75004 Par...   \n",
       "3            4  \\nRue Sainte-Croix de la Bretonnerie, 4th arr....   \n",
       "4            4  \\n58 Rue du Roi de Sicile, 4th arr., 75004 Par...   \n",
       "..         ...                                                ...   \n",
       "628          5  \\n10 Place De Mexico, 16th arr., 75016 Paris, ...   \n",
       "629          5  \\n3 Rue De Boulainvilliers, 16th arr., 75016 P...   \n",
       "630          5  \\n5 place du Chancelier Adenauer, 16th arr., 7...   \n",
       "631          5  \\n1-7 Rue Jean Richepin, 16th arr., 75116 Pari...   \n",
       "632          5  \\n13, rue Nungesser et Coli, 16th arr., 75016 ...   \n",
       "\n",
       "    reviews_count     quality  \n",
       "0                              \n",
       "1     554 reviews  Very Good   \n",
       "2     207 reviews  Excellent   \n",
       "3      17 reviews  Very Good   \n",
       "4     368 reviews  Excellent   \n",
       "..            ...         ...  \n",
       "628    56 reviews       Good   \n",
       "629   559 reviews  Very Good   \n",
       "630    89 reviews  Wonderful   \n",
       "631   432 reviews  Wonderful   \n",
       "632   852 reviews  Very Good   \n",
       "\n",
       "[633 rows x 4 columns]"
      ]
     },
     "execution_count": 50,
     "metadata": {},
     "output_type": "execute_result"
    }
   ],
   "source": [
    "columns = np.array(['hotel_star', 'hotel_address','reviews_count','quality'])\n",
    "hotel_paris = pd.DataFrame(data=data_array_full, columns=columns)\n",
    "hotel_paris.replace('nan', np.NaN, inplace=True)\n",
    "hotel_paris = hotel_paris.dropna(thresh=2).reset_index(drop=True)\n",
    "hotel_paris"
   ]
  },
  {
   "cell_type": "code",
   "execution_count": 51,
   "id": "18281b15",
   "metadata": {},
   "outputs": [
    {
     "data": {
      "text/plain": [
       "(386803, 57)"
      ]
     },
     "execution_count": 51,
     "metadata": {},
     "output_type": "execute_result"
    }
   ],
   "source": [
    "hotel_df = pd.read_csv('C:/Users/Dmitriy/Desktop/SkillFactory/project_3/hotels.csv', sep=',')\n",
    "hotel_df.shape"
   ]
  },
  {
   "cell_type": "code",
   "execution_count": 52,
   "id": "bb8d1ff1",
   "metadata": {},
   "outputs": [],
   "source": [
    "hotel_paris['hotel_address'] = hotel_paris['hotel_address'].apply(\n",
    "    lambda x: re.sub(\"[^0-9a-zA-Z]\",\" \",x).strip().lower().replace(' ', ''))"
   ]
  },
  {
   "cell_type": "code",
   "execution_count": 57,
   "id": "44bf126d",
   "metadata": {},
   "outputs": [
    {
     "data": {
      "text/plain": [
       "0                                                       \n",
       "1                    11ruedutemple4tharr75004parisfrance\n",
       "2              19ruedubourgtibourg4tharr75004parisfrance\n",
       "3      ruesaintecroixdelabretonnerie4tharr75004parisf...\n",
       "4               58rueduroidesicile4tharr75004parisfrance\n",
       "                             ...                        \n",
       "628               10placedemexico16tharr75016parisfrance\n",
       "629         3ruedeboulainvilliers16tharr75016parisfrance\n",
       "630    5placeduchancelieradenauer16tharr75016parisfrance\n",
       "631             17ruejeanrichepin16tharr75116parisfrance\n",
       "632          13ruenungesseretcoli16tharr75016parisfrance\n",
       "Name: hotel_address, Length: 605, dtype: object"
      ]
     },
     "execution_count": 57,
     "metadata": {},
     "output_type": "execute_result"
    }
   ],
   "source": [
    "hotel_paris['hotel_address']"
   ]
  },
  {
   "cell_type": "code",
   "execution_count": 59,
   "id": "97b5bc61",
   "metadata": {},
   "outputs": [],
   "source": [
    "hotel_df['hotel_address'] = hotel_df['hotel_address'].apply(\n",
    "    lambda x: x.lower().replace(' ', ''))"
   ]
  },
  {
   "cell_type": "code",
   "execution_count": 60,
   "id": "0becbc3d",
   "metadata": {},
   "outputs": [
    {
     "data": {
      "text/plain": [
       "0         strattonstreetmayfairwestminsterboroughlondonw...\n",
       "1         130134southamptonrowcamdenlondonwc1b5afunitedk...\n",
       "2                   151bisruederennes6tharr75006parisfrance\n",
       "3                216avenuejeanjaures19tharr75019parisfrance\n",
       "4                      molenwerf11014agamsterdamnetherlands\n",
       "                                ...                        \n",
       "386798    9knaresboroughplacekensingtonandchelsealondons...\n",
       "386799    landstraerhauptstrae15503landstrae1030viennaau...\n",
       "386800      2931gowerstreetcamdenlondonwc1e6hgunitedkingdom\n",
       "386801    31greatcumberlandplacewestminsterboroughlondon...\n",
       "386802    25courtfieldgardenskensingtonandchelsealondons...\n",
       "Name: hotel_address, Length: 386803, dtype: object"
      ]
     },
     "execution_count": 60,
     "metadata": {},
     "output_type": "execute_result"
    }
   ],
   "source": [
    "hotel_df['hotel_address']"
   ]
  },
  {
   "cell_type": "code",
   "execution_count": 61,
   "id": "c30a0b38",
   "metadata": {},
   "outputs": [],
   "source": [
    "hotel_df = hotel_df.merge(\n",
    "                hotel_paris,\n",
    "                on='hotel_address',\n",
    "                how='left')"
   ]
  },
  {
   "cell_type": "code",
   "execution_count": 62,
   "id": "4f669bdd",
   "metadata": {},
   "outputs": [
    {
     "data": {
      "text/plain": [
       "hotel_star       14.015168\n",
       "reviews_count    14.510373\n",
       "quality          14.510373\n",
       "dtype: float64"
      ]
     },
     "execution_count": 62,
     "metadata": {},
     "output_type": "execute_result"
    }
   ],
   "source": [
    "null = hotel_df[hotel_df['city_hotel'] == 'Paris'].isnull().mean() * 100\n",
    "null_per = null[null > 0]\n",
    "null_per"
   ]
  },
  {
   "cell_type": "code",
   "execution_count": 54,
   "id": "3b7c8494",
   "metadata": {},
   "outputs": [
    {
     "name": "stdout",
     "output_type": "stream",
     "text": [
      "Число найденных дубликатов: 26\n"
     ]
    }
   ],
   "source": [
    "dupl_columns = list(hotel_paris.columns) \n",
    "\n",
    "mask = hotel_paris.duplicated(subset=dupl_columns) \n",
    "hotel_duplicates = hotel_paris[mask]\n",
    "print(f'Число найденных дубликатов: {hotel_duplicates.shape[0]}')"
   ]
  },
  {
   "cell_type": "code",
   "execution_count": 55,
   "id": "a04b9fa0",
   "metadata": {},
   "outputs": [
    {
     "name": "stdout",
     "output_type": "stream",
     "text": [
      "Результирующее число записей: 607\n"
     ]
    }
   ],
   "source": [
    "hotel_paris = hotel_paris.drop_duplicates(subset=dupl_columns)\n",
    "print(f'Результирующее число записей: {hotel_paris.shape[0]}')"
   ]
  },
  {
   "cell_type": "code",
   "execution_count": 56,
   "id": "3b3a51f5",
   "metadata": {},
   "outputs": [],
   "source": [
    "hotel_paris = hotel_paris.drop_duplicates('hotel_address')"
   ]
  },
  {
   "cell_type": "code",
   "execution_count": 65,
   "id": "c64c161e",
   "metadata": {},
   "outputs": [],
   "source": [
    "hotel_paris.to_csv('C:/Users/Dmitriy/Desktop/SkillFactory/project_3/parsing_hotels/hotel_paris.csv')"
   ]
  }
 ],
 "metadata": {
  "kernelspec": {
   "display_name": "Python 3 (ipykernel)",
   "language": "python",
   "name": "python3"
  },
  "language_info": {
   "codemirror_mode": {
    "name": "ipython",
    "version": 3
   },
   "file_extension": ".py",
   "mimetype": "text/x-python",
   "name": "python",
   "nbconvert_exporter": "python",
   "pygments_lexer": "ipython3",
   "version": "3.9.12"
  }
 },
 "nbformat": 4,
 "nbformat_minor": 5
}
