{
 "cells": [
  {
   "cell_type": "code",
   "execution_count": 2,
   "id": "11ef47b0",
   "metadata": {},
   "outputs": [],
   "source": [
    "#библиотеки, необходимые для формирования запросов сайту и получение ответов\n",
    "#и поиска в полученной с сайта информации необхоимых для проекта данных\n",
    "from bs4 import BeautifulSoup\n",
    "import requests as req\n",
    "import lxml.html as html\n",
    "import urllib3\n",
    "\n",
    "import time #библиотека для установки паузы между запросами к сайту\n",
    "\n",
    "#общие библиотеки\n",
    "import pandas as pd\n",
    "import numpy as np\n",
    "\n",
    "import re"
   ]
  },
  {
   "cell_type": "code",
   "execution_count": 2,
   "id": "f46ad289",
   "metadata": {},
   "outputs": [],
   "source": [
    "#формируем header для включения его в запросы, так как сайты могут блокировать запросы без него\n",
    "header = {'user-agent': 'Chrome/108.0.0.0'}\n",
    "urllib3.disable_warnings()"
   ]
  },
  {
   "cell_type": "code",
   "execution_count": 8,
   "id": "75d4a73f",
   "metadata": {},
   "outputs": [],
   "source": [
    "url_star = 'https://www.booking.com/searchresults.en-us.html?label=gen173nr-1FCAEoggI46AdIM1gEaMIBiAEBmAExuAEXyAEM2AEB6AEB-AECiAIBqAIDuALlmsecBsACAdICJDFmMDhmM2QxLTMxYTAtNDMzMC05ODYwLTllNWU2M2EyMDZiN9gCBeACAQ&aid=304142&ss=Barcelona&ssne=London&ssne_untouched=London&lang=en-us&src=index&group_adults=2&no_rooms=1&group_children=0&sb_travel_purpose=leisure&nflt=ht_id%3D204%3Bclass%3D'\n",
    "url_all_star = []\n",
    "\n",
    "for i in range(2):\n",
    "    url_all_star.append(url_star + str(i+4) + '&order=distance_from_search')"
   ]
  },
  {
   "cell_type": "code",
   "execution_count": 9,
   "id": "7c95f10e",
   "metadata": {},
   "outputs": [
    {
     "name": "stdout",
     "output_type": "stream",
     "text": [
      "206\n",
      "43\n"
     ]
    }
   ],
   "source": [
    "urls_hotel_4 = []\n",
    "urls_hotel_5 = []\n",
    "\n",
    "for star in range(6):\n",
    "    time.sleep(3)  \n",
    "    if star == 0:\n",
    "        \n",
    "        for i in range(0, 201, 25):\n",
    "            try:\n",
    "                response = req.get(url_all_star[star] + '&offset=' + str(i), headers=header, timeout=50, verify=False)\n",
    "                page = BeautifulSoup(response.text,'html.parser')\n",
    "            except:\n",
    "                print('Ошибка запроса')\n",
    "                \n",
    "                \n",
    "            for a in page.find_all('a', class_='e13098a59f'):\n",
    "                urls_hotel_4.append(a['href'])\n",
    "        time.sleep(3) \n",
    "    if star == 1:\n",
    "        for i in range(0, 26, 25):\n",
    "            try:\n",
    "                response = req.get(url_all_star[star] + '&offset=' + str(i), headers=header, timeout=50, verify=False)\n",
    "                page = BeautifulSoup(response.text,'html.parser')\n",
    "            except:\n",
    "                print('Ошибка запроса')\n",
    "                \n",
    "                \n",
    "            for a in page.find_all('a', class_='e13098a59f'):\n",
    "                urls_hotel_5.append(a['href'])\n",
    "        time.sleep(3)\n",
    "    \n",
    "\n",
    "\n",
    "print(len(urls_hotel_4))\n",
    "print(len(urls_hotel_5))"
   ]
  },
  {
   "cell_type": "code",
   "execution_count": 10,
   "id": "67a8bb00",
   "metadata": {},
   "outputs": [
    {
     "name": "stdout",
     "output_type": "stream",
     "text": [
      "206\n",
      "43\n"
     ]
    }
   ],
   "source": [
    "urls_hotel_4_en = []\n",
    "urls_hotel_5_en = []\n",
    "\n",
    "    \n",
    "for i in range(len(urls_hotel_4)):\n",
    "    parts = urls_hotel_4[i].split('hapos=' + str(i+1))\n",
    "    urls_hotel_4_en.append(parts[0] + ('hapos=' + str(i+1)) + '&lang=en-us' + parts[1])\n",
    "    \n",
    "for i in range(len(urls_hotel_5)):\n",
    "    parts = urls_hotel_5[i].split('hapos=' + str(i+1))\n",
    "    urls_hotel_5_en.append(parts[0] + ('hapos=' + str(i+1)) + '&lang=en-us' + parts[1])\n",
    "\n",
    "\n",
    "print(len(urls_hotel_4_en))\n",
    "print(len(urls_hotel_5_en))"
   ]
  },
  {
   "cell_type": "code",
   "execution_count": 11,
   "id": "8a406fea",
   "metadata": {},
   "outputs": [
    {
     "name": "stdout",
     "output_type": "stream",
     "text": [
      "ошибка запроса\n",
      "ошибка запроса\n",
      "ошибка запроса\n",
      "ошибка запроса\n",
      "ошибка запроса\n",
      "ошибка запроса\n",
      "ошибка запроса\n",
      "ошибка запроса\n",
      "ошибка запроса\n",
      "ошибка запроса\n",
      "ошибка запроса\n",
      "ошибка запроса\n",
      "ошибка запроса\n",
      "ошибка запроса\n"
     ]
    }
   ],
   "source": [
    "data_array_full = np.empty(4, 'str')\n",
    "\n",
    "tags = ['span', 'div', 'div']\n",
    "classes = ['hp_address_subtitle js-hp_address_subtitle jq_tooltip', 'd8eab2cf7f c90c0a70d3 db63693c62',\n",
    "           'b5cd09854e f0d4d6a2f5 e46e88563a']\n",
    "\n",
    "all_star_url = [urls_hotel_4_en, urls_hotel_5_en]\n",
    "\n",
    "\n",
    "count_star_0 = 3\n",
    "\n",
    "for urls in all_star_url:\n",
    "    count_star_0 += 1\n",
    "    for url in urls:\n",
    "        try:\n",
    "            response = req.get(url, headers=header, timeout=50, verify=False)\n",
    "            page = BeautifulSoup(response.text,'html.parser')\n",
    "        except:\n",
    "            print('ошибка запроса')\n",
    "        \n",
    "    \n",
    "        data = []\n",
    "        data.append(count_star_0)\n",
    "        for i in range(3):\n",
    "            try:\n",
    "                elem = page.find_all(tags[i], classes[i])\n",
    "                elem = elem[0].text\n",
    "            except:\n",
    "                elem = np.NaN\n",
    "        \n",
    "                \n",
    "            data.append(elem)\n",
    "            \n",
    "        data_array = np.asarray(data).reshape(1,4)\n",
    "        data_array_full = np.row_stack((data_array_full,data_array))\n",
    "    \n",
    "        time.sleep(3)"
   ]
  },
  {
   "cell_type": "code",
   "execution_count": 16,
   "id": "e609e414",
   "metadata": {},
   "outputs": [
    {
     "data": {
      "text/html": [
       "<div>\n",
       "<style scoped>\n",
       "    .dataframe tbody tr th:only-of-type {\n",
       "        vertical-align: middle;\n",
       "    }\n",
       "\n",
       "    .dataframe tbody tr th {\n",
       "        vertical-align: top;\n",
       "    }\n",
       "\n",
       "    .dataframe thead th {\n",
       "        text-align: right;\n",
       "    }\n",
       "</style>\n",
       "<table border=\"1\" class=\"dataframe\">\n",
       "  <thead>\n",
       "    <tr style=\"text-align: right;\">\n",
       "      <th></th>\n",
       "      <th>hotel_star</th>\n",
       "      <th>hotel_address</th>\n",
       "      <th>reviews_count</th>\n",
       "      <th>quality</th>\n",
       "    </tr>\n",
       "  </thead>\n",
       "  <tbody>\n",
       "    <tr>\n",
       "      <th>0</th>\n",
       "      <td></td>\n",
       "      <td></td>\n",
       "      <td></td>\n",
       "      <td></td>\n",
       "    </tr>\n",
       "    <tr>\n",
       "      <th>1</th>\n",
       "      <td>4</td>\n",
       "      <td>\\nPlaza de Cataluña,10, Eixample, 08002 Barcel...</td>\n",
       "      <td>2,287 reviews</td>\n",
       "      <td>Excellent</td>\n",
       "    </tr>\n",
       "    <tr>\n",
       "      <th>2</th>\n",
       "      <td>4</td>\n",
       "      <td>\\nPlaza de Catalunya, 19, Ciutat Vella, 08002 ...</td>\n",
       "      <td>2,135 reviews</td>\n",
       "      <td>Wonderful</td>\n",
       "    </tr>\n",
       "    <tr>\n",
       "      <th>3</th>\n",
       "      <td>4</td>\n",
       "      <td>\\nBergara, 11, Eixample, 08002 Barcelona, Spain\\n</td>\n",
       "      <td>2,826 reviews</td>\n",
       "      <td>Very Good</td>\n",
       "    </tr>\n",
       "    <tr>\n",
       "      <th>4</th>\n",
       "      <td>4</td>\n",
       "      <td>\\nBergara, 8, Eixample, 08002 Barcelona, Spain\\n</td>\n",
       "      <td>1,288 reviews</td>\n",
       "      <td>Excellent</td>\n",
       "    </tr>\n",
       "    <tr>\n",
       "      <th>...</th>\n",
       "      <td>...</td>\n",
       "      <td>...</td>\n",
       "      <td>...</td>\n",
       "      <td>...</td>\n",
       "    </tr>\n",
       "    <tr>\n",
       "      <th>245</th>\n",
       "      <td>5</td>\n",
       "      <td>\\nDoctor Carulla, 25, Sarrià-St. Gervasi, 0801...</td>\n",
       "      <td>253 reviews</td>\n",
       "      <td>Wonderful</td>\n",
       "    </tr>\n",
       "    <tr>\n",
       "      <th>246</th>\n",
       "      <td>5</td>\n",
       "      <td>\\nAvenida Tibidabo, 1, Sarrià-St. Gervasi, 080...</td>\n",
       "      <td>208 reviews</td>\n",
       "      <td>Wonderful</td>\n",
       "    </tr>\n",
       "    <tr>\n",
       "      <th>247</th>\n",
       "      <td>5</td>\n",
       "      <td>\\nPlaca de Pius XII, 4, Les Corts, 08028 Barce...</td>\n",
       "      <td>1,773 reviews</td>\n",
       "      <td>Excellent</td>\n",
       "    </tr>\n",
       "    <tr>\n",
       "      <th>248</th>\n",
       "      <td>5</td>\n",
       "      <td>\\nAvinguda del Tibidabo 32, Sarrià-St. Gervasi...</td>\n",
       "      <td>572 reviews</td>\n",
       "      <td>Wonderful</td>\n",
       "    </tr>\n",
       "    <tr>\n",
       "      <th>249</th>\n",
       "      <td>5</td>\n",
       "      <td>\\nCarretera Vallvidrera-Tibidabo, 83-93, Horta...</td>\n",
       "      <td>571 reviews</td>\n",
       "      <td>Excellent</td>\n",
       "    </tr>\n",
       "  </tbody>\n",
       "</table>\n",
       "<p>250 rows × 4 columns</p>\n",
       "</div>"
      ],
      "text/plain": [
       "    hotel_star                                      hotel_address  \\\n",
       "0                                                                   \n",
       "1            4  \\nPlaza de Cataluña,10, Eixample, 08002 Barcel...   \n",
       "2            4  \\nPlaza de Catalunya, 19, Ciutat Vella, 08002 ...   \n",
       "3            4  \\nBergara, 11, Eixample, 08002 Barcelona, Spain\\n   \n",
       "4            4   \\nBergara, 8, Eixample, 08002 Barcelona, Spain\\n   \n",
       "..         ...                                                ...   \n",
       "245          5  \\nDoctor Carulla, 25, Sarrià-St. Gervasi, 0801...   \n",
       "246          5  \\nAvenida Tibidabo, 1, Sarrià-St. Gervasi, 080...   \n",
       "247          5  \\nPlaca de Pius XII, 4, Les Corts, 08028 Barce...   \n",
       "248          5  \\nAvinguda del Tibidabo 32, Sarrià-St. Gervasi...   \n",
       "249          5  \\nCarretera Vallvidrera-Tibidabo, 83-93, Horta...   \n",
       "\n",
       "     reviews_count     quality  \n",
       "0                               \n",
       "1    2,287 reviews  Excellent   \n",
       "2    2,135 reviews  Wonderful   \n",
       "3    2,826 reviews  Very Good   \n",
       "4    1,288 reviews  Excellent   \n",
       "..             ...         ...  \n",
       "245    253 reviews  Wonderful   \n",
       "246    208 reviews  Wonderful   \n",
       "247  1,773 reviews  Excellent   \n",
       "248    572 reviews  Wonderful   \n",
       "249    571 reviews  Excellent   \n",
       "\n",
       "[250 rows x 4 columns]"
      ]
     },
     "execution_count": 16,
     "metadata": {},
     "output_type": "execute_result"
    }
   ],
   "source": [
    "columns = np.array(['hotel_star', 'hotel_address','reviews_count','quality'])\n",
    "hotel_barcelona = pd.DataFrame(data=data_array_full, columns=columns)\n",
    "hotel_barcelona.replace('nan', np.NaN, inplace=True)\n",
    "hotel_barcelona = hotel_barcelona.dropna(thresh=2).reset_index(drop=True)\n",
    "hotel_barcelona"
   ]
  },
  {
   "cell_type": "code",
   "execution_count": 7,
   "id": "0a95ef31",
   "metadata": {},
   "outputs": [
    {
     "data": {
      "text/html": [
       "<div>\n",
       "<style scoped>\n",
       "    .dataframe tbody tr th:only-of-type {\n",
       "        vertical-align: middle;\n",
       "    }\n",
       "\n",
       "    .dataframe tbody tr th {\n",
       "        vertical-align: top;\n",
       "    }\n",
       "\n",
       "    .dataframe thead th {\n",
       "        text-align: right;\n",
       "    }\n",
       "</style>\n",
       "<table border=\"1\" class=\"dataframe\">\n",
       "  <thead>\n",
       "    <tr style=\"text-align: right;\">\n",
       "      <th></th>\n",
       "      <th>Unnamed: 0</th>\n",
       "      <th>hotel_star</th>\n",
       "      <th>hotel_address</th>\n",
       "      <th>reviews_count</th>\n",
       "      <th>quality</th>\n",
       "    </tr>\n",
       "  </thead>\n",
       "  <tbody>\n",
       "    <tr>\n",
       "      <th>0</th>\n",
       "      <td>0</td>\n",
       "      <td>NaN</td>\n",
       "      <td>NaN</td>\n",
       "      <td>NaN</td>\n",
       "      <td>NaN</td>\n",
       "    </tr>\n",
       "    <tr>\n",
       "      <th>1</th>\n",
       "      <td>1</td>\n",
       "      <td>4.0</td>\n",
       "      <td>plazadecatalua10eixample08002barcelonaspain</td>\n",
       "      <td>2,287 reviews</td>\n",
       "      <td>Excellent</td>\n",
       "    </tr>\n",
       "    <tr>\n",
       "      <th>2</th>\n",
       "      <td>2</td>\n",
       "      <td>4.0</td>\n",
       "      <td>plazadecatalunya19ciutatvella08002barcelonaspain</td>\n",
       "      <td>2,135 reviews</td>\n",
       "      <td>Wonderful</td>\n",
       "    </tr>\n",
       "    <tr>\n",
       "      <th>3</th>\n",
       "      <td>3</td>\n",
       "      <td>4.0</td>\n",
       "      <td>bergara11eixample08002barcelonaspain</td>\n",
       "      <td>2,826 reviews</td>\n",
       "      <td>Very Good</td>\n",
       "    </tr>\n",
       "    <tr>\n",
       "      <th>4</th>\n",
       "      <td>4</td>\n",
       "      <td>4.0</td>\n",
       "      <td>bergara8eixample08002barcelonaspain</td>\n",
       "      <td>1,288 reviews</td>\n",
       "      <td>Excellent</td>\n",
       "    </tr>\n",
       "    <tr>\n",
       "      <th>...</th>\n",
       "      <td>...</td>\n",
       "      <td>...</td>\n",
       "      <td>...</td>\n",
       "      <td>...</td>\n",
       "      <td>...</td>\n",
       "    </tr>\n",
       "    <tr>\n",
       "      <th>231</th>\n",
       "      <td>245</td>\n",
       "      <td>5.0</td>\n",
       "      <td>doctorcarulla25sarristgervasi08017barcelonaspain</td>\n",
       "      <td>253 reviews</td>\n",
       "      <td>Wonderful</td>\n",
       "    </tr>\n",
       "    <tr>\n",
       "      <th>232</th>\n",
       "      <td>246</td>\n",
       "      <td>5.0</td>\n",
       "      <td>avenidatibidabo1sarristgervasi08022barcelonaspain</td>\n",
       "      <td>208 reviews</td>\n",
       "      <td>Wonderful</td>\n",
       "    </tr>\n",
       "    <tr>\n",
       "      <th>233</th>\n",
       "      <td>247</td>\n",
       "      <td>5.0</td>\n",
       "      <td>placadepiusxii4lescorts08028barcelonaspain</td>\n",
       "      <td>1,773 reviews</td>\n",
       "      <td>Excellent</td>\n",
       "    </tr>\n",
       "    <tr>\n",
       "      <th>234</th>\n",
       "      <td>248</td>\n",
       "      <td>5.0</td>\n",
       "      <td>avingudadeltibidabo32sarristgervasi08022barcel...</td>\n",
       "      <td>572 reviews</td>\n",
       "      <td>Wonderful</td>\n",
       "    </tr>\n",
       "    <tr>\n",
       "      <th>235</th>\n",
       "      <td>249</td>\n",
       "      <td>5.0</td>\n",
       "      <td>carreteravallvidreratibidabo8393hortaguinard08...</td>\n",
       "      <td>571 reviews</td>\n",
       "      <td>Excellent</td>\n",
       "    </tr>\n",
       "  </tbody>\n",
       "</table>\n",
       "<p>236 rows × 5 columns</p>\n",
       "</div>"
      ],
      "text/plain": [
       "     Unnamed: 0  hotel_star  \\\n",
       "0             0         NaN   \n",
       "1             1         4.0   \n",
       "2             2         4.0   \n",
       "3             3         4.0   \n",
       "4             4         4.0   \n",
       "..          ...         ...   \n",
       "231         245         5.0   \n",
       "232         246         5.0   \n",
       "233         247         5.0   \n",
       "234         248         5.0   \n",
       "235         249         5.0   \n",
       "\n",
       "                                         hotel_address  reviews_count  \\\n",
       "0                                                  NaN            NaN   \n",
       "1          plazadecatalua10eixample08002barcelonaspain  2,287 reviews   \n",
       "2     plazadecatalunya19ciutatvella08002barcelonaspain  2,135 reviews   \n",
       "3                 bergara11eixample08002barcelonaspain  2,826 reviews   \n",
       "4                  bergara8eixample08002barcelonaspain  1,288 reviews   \n",
       "..                                                 ...            ...   \n",
       "231   doctorcarulla25sarristgervasi08017barcelonaspain    253 reviews   \n",
       "232  avenidatibidabo1sarristgervasi08022barcelonaspain    208 reviews   \n",
       "233         placadepiusxii4lescorts08028barcelonaspain  1,773 reviews   \n",
       "234  avingudadeltibidabo32sarristgervasi08022barcel...    572 reviews   \n",
       "235  carreteravallvidreratibidabo8393hortaguinard08...    571 reviews   \n",
       "\n",
       "        quality  \n",
       "0           NaN  \n",
       "1    Excellent   \n",
       "2    Wonderful   \n",
       "3    Very Good   \n",
       "4    Excellent   \n",
       "..          ...  \n",
       "231  Wonderful   \n",
       "232  Wonderful   \n",
       "233  Excellent   \n",
       "234  Wonderful   \n",
       "235  Excellent   \n",
       "\n",
       "[236 rows x 5 columns]"
      ]
     },
     "execution_count": 7,
     "metadata": {},
     "output_type": "execute_result"
    }
   ],
   "source": []
  },
  {
   "cell_type": "code",
   "execution_count": 4,
   "id": "f1f1649b",
   "metadata": {},
   "outputs": [
    {
     "data": {
      "text/plain": [
       "(386803, 57)"
      ]
     },
     "execution_count": 4,
     "metadata": {},
     "output_type": "execute_result"
    }
   ],
   "source": [
    "hotel_df = pd.read_csv('C:/Users/Dmitriy/Desktop/SkillFactory/project_3/hotels.csv', sep=',')\n",
    "hotel_df.shape"
   ]
  },
  {
   "cell_type": "code",
   "execution_count": 6,
   "id": "93490d31",
   "metadata": {},
   "outputs": [],
   "source": [
    "hotel_barcelona['hotel_address'] = hotel_barcelona['hotel_address'].apply(\n",
    "    lambda x: re.sub(\"[^0-9a-zA-Z]\",\" \",x).strip().lower().replace(' ', ''))"
   ]
  },
  {
   "cell_type": "code",
   "execution_count": 18,
   "id": "140de0cb",
   "metadata": {},
   "outputs": [
    {
     "data": {
      "text/plain": [
       "0                                                       \n",
       "1            plazadecatalua10eixample08002barcelonaspain\n",
       "2       plazadecatalunya19ciutatvella08002barcelonaspain\n",
       "3                   bergara11eixample08002barcelonaspain\n",
       "4                    bergara8eixample08002barcelonaspain\n",
       "                             ...                        \n",
       "245     doctorcarulla25sarristgervasi08017barcelonaspain\n",
       "246    avenidatibidabo1sarristgervasi08022barcelonaspain\n",
       "247           placadepiusxii4lescorts08028barcelonaspain\n",
       "248    avingudadeltibidabo32sarristgervasi08022barcel...\n",
       "249    carreteravallvidreratibidabo8393hortaguinard08...\n",
       "Name: hotel_address, Length: 250, dtype: object"
      ]
     },
     "execution_count": 18,
     "metadata": {},
     "output_type": "execute_result"
    }
   ],
   "source": [
    "hotel_barcelona['hotel_address']"
   ]
  },
  {
   "cell_type": "code",
   "execution_count": 10,
   "id": "bb1fa3ef",
   "metadata": {},
   "outputs": [],
   "source": [
    "hotel_df['hotel_address'] = hotel_df['hotel_address'].apply(\n",
    "    lambda x: x.lower().replace(' ', ''))"
   ]
  },
  {
   "cell_type": "code",
   "execution_count": 11,
   "id": "f81d06f2",
   "metadata": {},
   "outputs": [
    {
     "data": {
      "text/plain": [
       "0         strattonstreetmayfairwestminsterboroughlondonw...\n",
       "1         130134southamptonrowcamdenlondonwc1b5afunitedk...\n",
       "2                   151bisruederennes6tharr75006parisfrance\n",
       "3                216avenuejeanjaures19tharr75019parisfrance\n",
       "4                      molenwerf11014agamsterdamnetherlands\n",
       "                                ...                        \n",
       "386798    9knaresboroughplacekensingtonandchelsealondons...\n",
       "386799    landstraerhauptstrae15503landstrae1030viennaau...\n",
       "386800      2931gowerstreetcamdenlondonwc1e6hgunitedkingdom\n",
       "386801    31greatcumberlandplacewestminsterboroughlondon...\n",
       "386802    25courtfieldgardenskensingtonandchelsealondons...\n",
       "Name: hotel_address, Length: 386803, dtype: object"
      ]
     },
     "execution_count": 11,
     "metadata": {},
     "output_type": "execute_result"
    }
   ],
   "source": [
    "hotel_df['hotel_address']"
   ]
  },
  {
   "cell_type": "code",
   "execution_count": 12,
   "id": "11fe2d61",
   "metadata": {},
   "outputs": [],
   "source": [
    "hotel_df = hotel_df.merge(\n",
    "                hotel_barcelona,\n",
    "                on='hotel_address',\n",
    "                how='left')"
   ]
  },
  {
   "cell_type": "code",
   "execution_count": 17,
   "id": "a8125635",
   "metadata": {},
   "outputs": [
    {
     "data": {
      "text/plain": [
       "hotel_star       9.489941\n",
       "reviews_count    9.489941\n",
       "quality          9.489941\n",
       "dtype: float64"
      ]
     },
     "execution_count": 17,
     "metadata": {},
     "output_type": "execute_result"
    }
   ],
   "source": [
    "null = hotel_df[hotel_df['city_hotel'] == 'Barcelona'].isnull().mean() * 100\n",
    "null_per = null[null > 0]\n",
    "null_per"
   ]
  },
  {
   "cell_type": "code",
   "execution_count": 8,
   "id": "0c84fde1",
   "metadata": {},
   "outputs": [
    {
     "name": "stdout",
     "output_type": "stream",
     "text": [
      "Число найденных дубликатов: 0\n"
     ]
    }
   ],
   "source": [
    "dupl_columns = list(hotel_barcelona.columns) \n",
    "\n",
    "mask = hotel_barcelona.duplicated(subset=dupl_columns) \n",
    "hotel_duplicates = hotel_barcelona[mask]\n",
    "print(f'Число найденных дубликатов: {hotel_duplicates.shape[0]}')"
   ]
  },
  {
   "cell_type": "code",
   "execution_count": 9,
   "id": "c15f1dad",
   "metadata": {},
   "outputs": [
    {
     "name": "stdout",
     "output_type": "stream",
     "text": [
      "Результирующее число записей: 236\n"
     ]
    }
   ],
   "source": [
    "hotel_barcelona = hotel_barcelona.drop_duplicates(subset=dupl_columns)\n",
    "print(f'Результирующее число записей: {hotel_barcelona.shape[0]}')"
   ]
  },
  {
   "cell_type": "code",
   "execution_count": 21,
   "id": "befdc3c9",
   "metadata": {},
   "outputs": [],
   "source": [
    "hotel_barcelona.to_csv('C:/Users/Dmitriy/Desktop/SkillFactory/project_3/parsing_hotels/hotel_barcelona.csv')"
   ]
  }
 ],
 "metadata": {
  "kernelspec": {
   "display_name": "Python 3 (ipykernel)",
   "language": "python",
   "name": "python3"
  },
  "language_info": {
   "codemirror_mode": {
    "name": "ipython",
    "version": 3
   },
   "file_extension": ".py",
   "mimetype": "text/x-python",
   "name": "python",
   "nbconvert_exporter": "python",
   "pygments_lexer": "ipython3",
   "version": "3.9.12"
  }
 },
 "nbformat": 4,
 "nbformat_minor": 5
}
