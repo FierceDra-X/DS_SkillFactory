{
 "cells": [
  {
   "cell_type": "code",
   "execution_count": 1,
   "id": "21a7e4ea",
   "metadata": {},
   "outputs": [],
   "source": [
    "#библиотеки, необходимые для формирования запросов сайту и получение ответов\n",
    "#и поиска в полученной с сайта информации необхоимых для проекта данных\n",
    "from bs4 import BeautifulSoup\n",
    "import requests as req\n",
    "import lxml.html as html\n",
    "import urllib3\n",
    "\n",
    "import time #библиотека для установки паузы между запросами к сайту\n",
    "\n",
    "#общие библиотеки\n",
    "import pandas as pd\n",
    "import numpy as np\n",
    "\n",
    "import re"
   ]
  },
  {
   "cell_type": "code",
   "execution_count": 2,
   "id": "1866a505",
   "metadata": {},
   "outputs": [],
   "source": [
    "#формируем header для включения его в запросы, так как сайты могут блокировать запросы без него\n",
    "header = {'user-agent': 'Chrome/108.0.0.0'}\n",
    "urllib3.disable_warnings()"
   ]
  },
  {
   "cell_type": "code",
   "execution_count": 5,
   "id": "2d810ab7",
   "metadata": {},
   "outputs": [],
   "source": [
    "url_star = 'https://www.booking.com/searchresults.en-us.html?label=gen173nr-1FCAEoggI46AdIM1gEaMIBiAEBmAExuAEXyAEM2AEB6AEB-AECiAIBqAIDuALlmsecBsACAdICJDFmMDhmM2QxLTMxYTAtNDMzMC05ODYwLTllNWU2M2EyMDZiN9gCBeACAQ&aid=304142&ss=Vienna%2C+Austria&ssne=Barcelona&ssne_untouched=Barcelona&efdco=1&lang=en-us&src=searchresults&dest_id=ChIJn8o2UZ4HbUcRRluiUYrlwv0&dest_type=city&place_id=ChIJn8o2UZ4HbUcRRluiUYrlwv0&latitude=48.2081743&longitude=16.3738189&ac_position=0&ac_click_type=g&ac_langcode=en-us&ac_suggestion_list_length=5&search_selected=true&search_pageview_id=b46d5237308a0121&group_adults=2&no_rooms=1&group_children=0&sb_travel_purpose=leisure&nflt=ht_id%3D204%3Bclass%3D'\n",
    "url_all_star = []\n",
    "\n",
    "for i in range(2):\n",
    "    url_all_star.append(url_star + str(i+4) + '&order=distance_from_search')"
   ]
  },
  {
   "cell_type": "code",
   "execution_count": 9,
   "id": "36287241",
   "metadata": {},
   "outputs": [
    {
     "name": "stdout",
     "output_type": "stream",
     "text": [
      "221\n",
      "28\n"
     ]
    }
   ],
   "source": [
    "urls_hotel_4 = []\n",
    "urls_hotel_5 = []\n",
    "\n",
    "for star in range(6):\n",
    "    time.sleep(3)  \n",
    "    if star == 0:\n",
    "        \n",
    "        for i in range(0, 201, 25):\n",
    "            try:\n",
    "                response = req.get(url_all_star[star] + '&offset=' + str(i), headers=header, timeout=50, verify=False)\n",
    "                page = BeautifulSoup(response.text,'html.parser')\n",
    "            except:\n",
    "                print('Ошибка запроса')\n",
    "                \n",
    "                \n",
    "            for a in page.find_all('a', class_='e13098a59f'):\n",
    "                urls_hotel_4.append(a['href'])\n",
    "        time.sleep(3) \n",
    "    if star == 1:\n",
    "        for i in range(0, 26, 25):\n",
    "            try:\n",
    "                response = req.get(url_all_star[star] + '&offset=' + str(i), headers=header, timeout=50, verify=False)\n",
    "                page = BeautifulSoup(response.text,'html.parser')\n",
    "            except:\n",
    "                print('Ошибка запроса')\n",
    "                \n",
    "                \n",
    "            for a in page.find_all('a', class_='e13098a59f'):\n",
    "                urls_hotel_5.append(a['href'])\n",
    "        time.sleep(3)\n",
    "    \n",
    "\n",
    "\n",
    "print(len(urls_hotel_4))\n",
    "print(len(urls_hotel_5))"
   ]
  },
  {
   "cell_type": "code",
   "execution_count": 10,
   "id": "4cb84cd1",
   "metadata": {},
   "outputs": [
    {
     "name": "stdout",
     "output_type": "stream",
     "text": [
      "221\n",
      "28\n"
     ]
    }
   ],
   "source": [
    "urls_hotel_4_en = []\n",
    "urls_hotel_5_en = []\n",
    "\n",
    "    \n",
    "for i in range(len(urls_hotel_4)):\n",
    "    parts = urls_hotel_4[i].split('hapos=' + str(i+1))\n",
    "    urls_hotel_4_en.append(parts[0] + ('hapos=' + str(i+1)) + '&lang=en-us' + parts[1])\n",
    "    \n",
    "for i in range(len(urls_hotel_5)):\n",
    "    parts = urls_hotel_5[i].split('hapos=' + str(i+1))\n",
    "    urls_hotel_5_en.append(parts[0] + ('hapos=' + str(i+1)) + '&lang=en-us' + parts[1])\n",
    "\n",
    "\n",
    "print(len(urls_hotel_4_en))\n",
    "print(len(urls_hotel_5_en))"
   ]
  },
  {
   "cell_type": "code",
   "execution_count": 11,
   "id": "786a6e99",
   "metadata": {},
   "outputs": [
    {
     "name": "stdout",
     "output_type": "stream",
     "text": [
      "ошибка запроса\n",
      "ошибка запроса\n",
      "ошибка запроса\n",
      "ошибка запроса\n",
      "ошибка запроса\n",
      "ошибка запроса\n",
      "ошибка запроса\n",
      "ошибка запроса\n",
      "ошибка запроса\n",
      "ошибка запроса\n",
      "ошибка запроса\n"
     ]
    }
   ],
   "source": [
    "data_array_full = np.empty(4, 'str')\n",
    "\n",
    "tags = ['span', 'div', 'div']\n",
    "classes = ['hp_address_subtitle js-hp_address_subtitle jq_tooltip', 'd8eab2cf7f c90c0a70d3 db63693c62',\n",
    "           'b5cd09854e f0d4d6a2f5 e46e88563a']\n",
    "\n",
    "all_star_url = [urls_hotel_4_en, urls_hotel_5_en]\n",
    "\n",
    "\n",
    "count_star_0 = 3\n",
    "\n",
    "for urls in all_star_url:\n",
    "    count_star_0 += 1\n",
    "    for url in urls:\n",
    "        try:\n",
    "            response = req.get(url, headers=header, timeout=50, verify=False)\n",
    "            page = BeautifulSoup(response.text,'html.parser')\n",
    "        except:\n",
    "            print('ошибка запроса')\n",
    "        \n",
    "    \n",
    "        data = []\n",
    "        data.append(count_star_0)\n",
    "        for i in range(3):\n",
    "            try:\n",
    "                elem = page.find_all(tags[i], classes[i])\n",
    "                elem = elem[0].text\n",
    "            except:\n",
    "                elem = np.NaN\n",
    "        \n",
    "                \n",
    "            data.append(elem)\n",
    "            \n",
    "        data_array = np.asarray(data).reshape(1,4)\n",
    "        data_array_full = np.row_stack((data_array_full,data_array))\n",
    "    \n",
    "        time.sleep(3)"
   ]
  },
  {
   "cell_type": "code",
   "execution_count": 50,
   "id": "1c914864",
   "metadata": {},
   "outputs": [
    {
     "data": {
      "text/html": [
       "<div>\n",
       "<style scoped>\n",
       "    .dataframe tbody tr th:only-of-type {\n",
       "        vertical-align: middle;\n",
       "    }\n",
       "\n",
       "    .dataframe tbody tr th {\n",
       "        vertical-align: top;\n",
       "    }\n",
       "\n",
       "    .dataframe thead th {\n",
       "        text-align: right;\n",
       "    }\n",
       "</style>\n",
       "<table border=\"1\" class=\"dataframe\">\n",
       "  <thead>\n",
       "    <tr style=\"text-align: right;\">\n",
       "      <th></th>\n",
       "      <th>hotel_star</th>\n",
       "      <th>hotel_address</th>\n",
       "      <th>reviews_count</th>\n",
       "      <th>quality</th>\n",
       "    </tr>\n",
       "  </thead>\n",
       "  <tbody>\n",
       "    <tr>\n",
       "      <th>0</th>\n",
       "      <td></td>\n",
       "      <td></td>\n",
       "      <td></td>\n",
       "      <td></td>\n",
       "    </tr>\n",
       "    <tr>\n",
       "      <th>1</th>\n",
       "      <td>4</td>\n",
       "      <td>\\nSingerstraße 3, 01. Innere Stadt, 1010 Vienn...</td>\n",
       "      <td>2,207 reviews</td>\n",
       "      <td>Very Good</td>\n",
       "    </tr>\n",
       "    <tr>\n",
       "      <th>2</th>\n",
       "      <td>4</td>\n",
       "      <td>\\nSchulerstraße 10, 01. Innere Stadt, 1010 Vie...</td>\n",
       "      <td>883 reviews</td>\n",
       "      <td>Wonderful</td>\n",
       "    </tr>\n",
       "    <tr>\n",
       "      <th>3</th>\n",
       "      <td>4</td>\n",
       "      <td>\\nSchulerstraße 14, 01. Innere Stadt, 1010 Vie...</td>\n",
       "      <td>3,310 reviews</td>\n",
       "      <td>Excellent</td>\n",
       "    </tr>\n",
       "    <tr>\n",
       "      <th>4</th>\n",
       "      <td>4</td>\n",
       "      <td>\\nRotenturmstraße 1-3 7. Stock, Top 22, 01. In...</td>\n",
       "      <td>213 reviews</td>\n",
       "      <td>Exceptional</td>\n",
       "    </tr>\n",
       "    <tr>\n",
       "      <th>...</th>\n",
       "      <td>...</td>\n",
       "      <td>...</td>\n",
       "      <td>...</td>\n",
       "      <td>...</td>\n",
       "    </tr>\n",
       "    <tr>\n",
       "      <th>245</th>\n",
       "      <td>5</td>\n",
       "      <td>\\nLeopoldsgasse 39, 02. Leopoldstadt, 1020 Vie...</td>\n",
       "      <td>58 reviews</td>\n",
       "      <td>Exceptional</td>\n",
       "    </tr>\n",
       "    <tr>\n",
       "      <th>246</th>\n",
       "      <td>5</td>\n",
       "      <td>\\nBurggasse 2, 07. Neubau, 1070 Vienna, Austria\\n</td>\n",
       "      <td>925 reviews</td>\n",
       "      <td>Wonderful</td>\n",
       "    </tr>\n",
       "    <tr>\n",
       "      <th>247</th>\n",
       "      <td>5</td>\n",
       "      <td>\\nNordwestbahnstrasse 37A, 20. Brigittenau, 12...</td>\n",
       "      <td>2,044 reviews</td>\n",
       "      <td>Wonderful</td>\n",
       "    </tr>\n",
       "    <tr>\n",
       "      <th>248</th>\n",
       "      <td>5</td>\n",
       "      <td>\\nArsenalstrasse 10, 1100 Vienna, Austria\\n</td>\n",
       "      <td>1,453 reviews</td>\n",
       "      <td>Wonderful</td>\n",
       "    </tr>\n",
       "    <tr>\n",
       "      <th>249</th>\n",
       "      <td>5</td>\n",
       "      <td>\\nDonau-City-Straße 7, 22. Donaustadt, 1220 Vi...</td>\n",
       "      <td>4,331 reviews</td>\n",
       "      <td>Very Good</td>\n",
       "    </tr>\n",
       "  </tbody>\n",
       "</table>\n",
       "<p>250 rows × 4 columns</p>\n",
       "</div>"
      ],
      "text/plain": [
       "    hotel_star                                      hotel_address  \\\n",
       "0                                                                   \n",
       "1            4  \\nSingerstraße 3, 01. Innere Stadt, 1010 Vienn...   \n",
       "2            4  \\nSchulerstraße 10, 01. Innere Stadt, 1010 Vie...   \n",
       "3            4  \\nSchulerstraße 14, 01. Innere Stadt, 1010 Vie...   \n",
       "4            4  \\nRotenturmstraße 1-3 7. Stock, Top 22, 01. In...   \n",
       "..         ...                                                ...   \n",
       "245          5  \\nLeopoldsgasse 39, 02. Leopoldstadt, 1020 Vie...   \n",
       "246          5  \\nBurggasse 2, 07. Neubau, 1070 Vienna, Austria\\n   \n",
       "247          5  \\nNordwestbahnstrasse 37A, 20. Brigittenau, 12...   \n",
       "248          5        \\nArsenalstrasse 10, 1100 Vienna, Austria\\n   \n",
       "249          5  \\nDonau-City-Straße 7, 22. Donaustadt, 1220 Vi...   \n",
       "\n",
       "     reviews_count       quality  \n",
       "0                                 \n",
       "1    2,207 reviews    Very Good   \n",
       "2      883 reviews    Wonderful   \n",
       "3    3,310 reviews    Excellent   \n",
       "4      213 reviews  Exceptional   \n",
       "..             ...           ...  \n",
       "245     58 reviews  Exceptional   \n",
       "246    925 reviews    Wonderful   \n",
       "247  2,044 reviews    Wonderful   \n",
       "248  1,453 reviews    Wonderful   \n",
       "249  4,331 reviews    Very Good   \n",
       "\n",
       "[250 rows x 4 columns]"
      ]
     },
     "execution_count": 50,
     "metadata": {},
     "output_type": "execute_result"
    }
   ],
   "source": [
    "columns = np.array(['hotel_star', 'hotel_address','reviews_count','quality'])\n",
    "hotel_vienna = pd.DataFrame(data=data_array_full, columns=columns)\n",
    "hotel_vienna.replace('nan', np.NaN, inplace=True)\n",
    "hotel_vienna = hotel_vienna.dropna(thresh=2).reset_index(drop=True)\n",
    "hotel_vienna"
   ]
  },
  {
   "cell_type": "code",
   "execution_count": 51,
   "id": "6ec1b530",
   "metadata": {},
   "outputs": [
    {
     "data": {
      "text/plain": [
       "(386803, 57)"
      ]
     },
     "execution_count": 51,
     "metadata": {},
     "output_type": "execute_result"
    }
   ],
   "source": [
    "hotel_df = pd.read_csv('C:/Users/Dmitriy/Desktop/SkillFactory/project_3/hotels.csv', sep=',')\n",
    "hotel_df.shape"
   ]
  },
  {
   "cell_type": "code",
   "execution_count": 54,
   "id": "aa2d3176",
   "metadata": {},
   "outputs": [
    {
     "name": "stderr",
     "output_type": "stream",
     "text": [
      "C:\\Users\\Dmitriy\\AppData\\Local\\Temp\\ipykernel_16464\\1452831438.py:1: SettingWithCopyWarning: \n",
      "A value is trying to be set on a copy of a slice from a DataFrame.\n",
      "Try using .loc[row_indexer,col_indexer] = value instead\n",
      "\n",
      "See the caveats in the documentation: https://pandas.pydata.org/pandas-docs/stable/user_guide/indexing.html#returning-a-view-versus-a-copy\n",
      "  hotel_vienna['hotel_address'] = hotel_vienna['hotel_address'].apply(\n"
     ]
    }
   ],
   "source": [
    "hotel_vienna['hotel_address'] = hotel_vienna['hotel_address'].apply(\n",
    "    lambda x: re.sub(\"[^0-9a-zA-Z]\",\" \",x).strip().lower().replace(' ', ''))"
   ]
  },
  {
   "cell_type": "code",
   "execution_count": 55,
   "id": "223abb3a",
   "metadata": {},
   "outputs": [
    {
     "data": {
      "text/plain": [
       "0                                                       \n",
       "1             singerstrae301innerestadt1010viennaaustria\n",
       "2           schulerstrae1001innerestadt1010viennaaustria\n",
       "3           schulerstrae1401innerestadt1010viennaaustria\n",
       "4      rotenturmstrae137stocktop2201innerestadt1010vi...\n",
       "                             ...                        \n",
       "245       leopoldsgasse3902leopoldstadt1020viennaaustria\n",
       "246                  burggasse207neubau1070viennaaustria\n",
       "247    nordwestbahnstrasse37a20brigittenau1200viennaa...\n",
       "248                    arsenalstrasse101100viennaaustria\n",
       "249         donaucitystrae722donaustadt1220viennaaustria\n",
       "Name: hotel_address, Length: 239, dtype: object"
      ]
     },
     "execution_count": 55,
     "metadata": {},
     "output_type": "execute_result"
    }
   ],
   "source": [
    "hotel_vienna['hotel_address']"
   ]
  },
  {
   "cell_type": "code",
   "execution_count": 56,
   "id": "738e1a68",
   "metadata": {},
   "outputs": [],
   "source": [
    "hotel_df['hotel_address'] = hotel_df['hotel_address'].apply(\n",
    "    lambda x: x.lower().replace(' ', ''))"
   ]
  },
  {
   "cell_type": "code",
   "execution_count": 57,
   "id": "d1270f4b",
   "metadata": {},
   "outputs": [
    {
     "data": {
      "text/plain": [
       "0         strattonstreetmayfairwestminsterboroughlondonw...\n",
       "1         130134southamptonrowcamdenlondonwc1b5afunitedk...\n",
       "2                   151bisruederennes6tharr75006parisfrance\n",
       "3                216avenuejeanjaures19tharr75019parisfrance\n",
       "4                      molenwerf11014agamsterdamnetherlands\n",
       "                                ...                        \n",
       "386798    9knaresboroughplacekensingtonandchelsealondons...\n",
       "386799    landstraerhauptstrae15503landstrae1030viennaau...\n",
       "386800      2931gowerstreetcamdenlondonwc1e6hgunitedkingdom\n",
       "386801    31greatcumberlandplacewestminsterboroughlondon...\n",
       "386802    25courtfieldgardenskensingtonandchelsealondons...\n",
       "Name: hotel_address, Length: 386803, dtype: object"
      ]
     },
     "execution_count": 57,
     "metadata": {},
     "output_type": "execute_result"
    }
   ],
   "source": [
    "hotel_df['hotel_address']"
   ]
  },
  {
   "cell_type": "code",
   "execution_count": 58,
   "id": "0920e199",
   "metadata": {},
   "outputs": [],
   "source": [
    "hotel_df = hotel_df.merge(\n",
    "                hotel_vienna,\n",
    "                on='hotel_address',\n",
    "                how='left')"
   ]
  },
  {
   "cell_type": "code",
   "execution_count": 59,
   "id": "4ddf38f7",
   "metadata": {},
   "outputs": [
    {
     "data": {
      "text/plain": [
       "hotel_star       16.892864\n",
       "reviews_count    17.417232\n",
       "quality          17.417232\n",
       "dtype: float64"
      ]
     },
     "execution_count": 59,
     "metadata": {},
     "output_type": "execute_result"
    }
   ],
   "source": [
    "null = hotel_df[hotel_df['city_hotel'] == 'Vienna'].isnull().mean() * 100\n",
    "null_per = null[null > 0]\n",
    "null_per"
   ]
  },
  {
   "cell_type": "code",
   "execution_count": 52,
   "id": "68908989",
   "metadata": {},
   "outputs": [
    {
     "name": "stdout",
     "output_type": "stream",
     "text": [
      "Число найденных дубликатов: 11\n"
     ]
    }
   ],
   "source": [
    "dupl_columns = list(hotel_vienna.columns) \n",
    "\n",
    "mask = hotel_vienna.duplicated(subset=dupl_columns) \n",
    "hotel_duplicates = hotel_vienna[mask]\n",
    "print(f'Число найденных дубликатов: {hotel_duplicates.shape[0]}')"
   ]
  },
  {
   "cell_type": "code",
   "execution_count": 53,
   "id": "a26e1b86",
   "metadata": {},
   "outputs": [
    {
     "name": "stdout",
     "output_type": "stream",
     "text": [
      "Результирующее число записей: 239\n"
     ]
    }
   ],
   "source": [
    "hotel_vienna = hotel_vienna.drop_duplicates(subset=dupl_columns)\n",
    "print(f'Результирующее число записей: {hotel_vienna.shape[0]}')"
   ]
  },
  {
   "cell_type": "code",
   "execution_count": 60,
   "id": "f733586d",
   "metadata": {},
   "outputs": [],
   "source": [
    "hotel_vienna.to_csv('C:/Users/Dmitriy/Desktop/SkillFactory/project_3/parsing_hotels/hotel_vienna.csv')"
   ]
  },
  {
   "cell_type": "code",
   "execution_count": null,
   "id": "1e4aab28",
   "metadata": {},
   "outputs": [],
   "source": []
  }
 ],
 "metadata": {
  "kernelspec": {
   "display_name": "Python 3 (ipykernel)",
   "language": "python",
   "name": "python3"
  },
  "language_info": {
   "codemirror_mode": {
    "name": "ipython",
    "version": 3
   },
   "file_extension": ".py",
   "mimetype": "text/x-python",
   "name": "python",
   "nbconvert_exporter": "python",
   "pygments_lexer": "ipython3",
   "version": "3.9.12"
  }
 },
 "nbformat": 4,
 "nbformat_minor": 5
}
