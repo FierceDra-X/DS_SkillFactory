{
 "cells": [
  {
   "cell_type": "code",
   "execution_count": 27,
   "id": "1f9da0f3",
   "metadata": {},
   "outputs": [],
   "source": [
    "#библиотеки, необходимые для формирования запросов сайту и получение ответов\n",
    "#и поиска в полученной с сайта информации необхоимых для проекта данных\n",
    "from bs4 import BeautifulSoup\n",
    "import requests as req\n",
    "import lxml.html as html\n",
    "import urllib3\n",
    "\n",
    "import time #библиотека для установки паузы между запросами к сайту\n",
    "\n",
    "#общие библиотеки\n",
    "import pandas as pd\n",
    "import numpy as np\n",
    "\n",
    "import re"
   ]
  },
  {
   "cell_type": "code",
   "execution_count": 28,
   "id": "a574918f",
   "metadata": {},
   "outputs": [],
   "source": [
    "#формируем header для включения его в запросы, так как сайты могут блокировать запросы без него\n",
    "header = {'user-agent': 'Chrome/108.0.0.0'}\n",
    "urllib3.disable_warnings()"
   ]
  },
  {
   "cell_type": "code",
   "execution_count": 32,
   "id": "b8982f2f",
   "metadata": {},
   "outputs": [],
   "source": [
    "url_star = 'https://www.booking.com/searchresults.html?label=gen173nr-1FCAEoggI46AdIM1gEaMIBiAEBmAExuAEXyAEM2AEB6AEB-AECiAIBqAIDuALQhLOcBsACAdICJDVhODVhNGQ4LTQ2ZDgtNGNkMi05YjgwLTA0OWU4NDY1ZGRmMNgCBeACAQ&sid=10047ad366873316955a6d37c8047d00&aid=304142&tmpl=searchresults&ac_click_type=b&ac_meta=GhBmMGYxNzA1MjlhMGEwMTNkIAAoATICZW46BU1pbGFuQABKAFAA&ac_position=0&class_interval=1&dest_id=-121726&dest_type=city&dtdisc=0&efdco=1&group_adults=2&group_children=0&inac=0&index_postcard=0&label_click=undef&lang=en-us&nflt=ht_id%3D204%3Bclass%3D'\n",
    "url_star_tail = '&no_rooms=1&postcard=0&raw_dest_type=city&room1=A%2CA&sb_price_type=total&sb_travel_purpose=leisure&search_selected=1&shw_aparth=1&slp_r_match=0&soz=1&src=searchresults&srpvid=c69f8e7aae9604e8&ss=Milan&ss_all=0&ssb=empty&sshis=0&ssne=Paris&ssne_untouched=Paris&lang_click=other&cdl=en-us&lang_changed=1&order=distance_from_search'\n",
    "url_all_star = []\n",
    "\n",
    "for i in range(2):\n",
    "    url_all_star.append(url_star + str(i+4) + url_star_tail)"
   ]
  },
  {
   "cell_type": "code",
   "execution_count": 33,
   "id": "b578f166",
   "metadata": {},
   "outputs": [
    {
     "name": "stdout",
     "output_type": "stream",
     "text": [
      "169\n",
      "26\n"
     ]
    }
   ],
   "source": [
    "urls_hotel_4 = []\n",
    "urls_hotel_5 = []\n",
    "\n",
    "for star in range(2):\n",
    "    time.sleep(3)   \n",
    "    if star == 0:\n",
    "        for i in range(0, 151, 25):\n",
    "            response = req.get(url_all_star[star] + '&offset=' + str(i), headers=header, timeout=50, verify=False)\n",
    "            page = BeautifulSoup(response.text,'html.parser')\n",
    "            for a in page.find_all('a', class_='e13098a59f'):\n",
    "                urls_hotel_4.append(a['href'])\n",
    "            time.sleep(3) \n",
    "    if star == 1:\n",
    "        for i in range(0, 26, 25):\n",
    "            response = req.get(url_all_star[star] + '&offset=' + str(i), headers=header, timeout=50, verify=False)\n",
    "            page = BeautifulSoup(response.text,'html.parser')\n",
    "            for a in page.find_all('a', class_='e13098a59f'):\n",
    "                urls_hotel_5.append(a['href'])\n",
    "            time.sleep(3)\n",
    "    \n",
    "    \n",
    "\n",
    "print(len(urls_hotel_4))\n",
    "print(len(urls_hotel_5))"
   ]
  },
  {
   "cell_type": "code",
   "execution_count": 34,
   "id": "5dd5186d",
   "metadata": {},
   "outputs": [
    {
     "name": "stdout",
     "output_type": "stream",
     "text": [
      "169\n",
      "26\n"
     ]
    }
   ],
   "source": [
    "urls_hotel_4_en = []\n",
    "urls_hotel_5_en = []\n",
    "\n",
    "\n",
    "for i in range(len(urls_hotel_4)):\n",
    "    parts = urls_hotel_4[i].split('hapos=' + str(i+1))\n",
    "    urls_hotel_4_en.append(parts[0] + ('hapos=' + str(i+1)) + '&lang=en-us' + parts[1])\n",
    "    \n",
    "for i in range(len(urls_hotel_5)):\n",
    "    parts = urls_hotel_5[i].split('hapos=' + str(i+1))\n",
    "    urls_hotel_5_en.append(parts[0] + ('hapos=' + str(i+1)) + '&lang=en-us' + parts[1])\n",
    "\n",
    "\n",
    "print(len(urls_hotel_4_en))\n",
    "print(len(urls_hotel_5_en))"
   ]
  },
  {
   "cell_type": "code",
   "execution_count": 35,
   "id": "e6e064dd",
   "metadata": {},
   "outputs": [
    {
     "name": "stdout",
     "output_type": "stream",
     "text": [
      "ошибка запроса\n",
      "ошибка запроса\n",
      "ошибка запроса\n",
      "ошибка запроса\n",
      "ошибка запроса\n",
      "ошибка запроса\n",
      "ошибка запроса\n",
      "ошибка запроса\n",
      "ошибка запроса\n",
      "ошибка запроса\n",
      "ошибка запроса\n",
      "ошибка запроса\n",
      "ошибка запроса\n",
      "ошибка запроса\n",
      "ошибка запроса\n",
      "ошибка запроса\n",
      "ошибка запроса\n"
     ]
    }
   ],
   "source": [
    "data_array_full = np.empty(4, 'str')\n",
    "\n",
    "tags = ['span', 'div', 'div']\n",
    "classes = ['hp_address_subtitle js-hp_address_subtitle jq_tooltip', 'd8eab2cf7f c90c0a70d3 db63693c62',\n",
    "           'b5cd09854e f0d4d6a2f5 e46e88563a']\n",
    "\n",
    "all_star_url = [urls_hotel_4_en, urls_hotel_5_en]\n",
    "\n",
    "\n",
    "count_star_0 = 3\n",
    "\n",
    "for urls in all_star_url:\n",
    "    count_star_0 += 1\n",
    "    for url in urls:\n",
    "        try:\n",
    "            response = req.get(url, headers=header, timeout=50, verify=False)\n",
    "            page = BeautifulSoup(response.text,'html.parser')\n",
    "        except:\n",
    "            print('ошибка запроса')\n",
    "        \n",
    "    \n",
    "        data = []\n",
    "        data.append(count_star_0)\n",
    "        for i in range(3):\n",
    "            try:\n",
    "                elem = page.find_all(tags[i], classes[i])\n",
    "                elem = elem[0].text\n",
    "            except:\n",
    "                elem = np.NaN\n",
    "        \n",
    "                \n",
    "            data.append(elem)\n",
    "            \n",
    "        data_array = np.asarray(data).reshape(1,4)\n",
    "        data_array_full = np.row_stack((data_array_full,data_array))\n",
    "    \n",
    "        time.sleep(3)"
   ]
  },
  {
   "cell_type": "code",
   "execution_count": 62,
   "id": "aa2c69d9",
   "metadata": {},
   "outputs": [
    {
     "data": {
      "text/html": [
       "<div>\n",
       "<style scoped>\n",
       "    .dataframe tbody tr th:only-of-type {\n",
       "        vertical-align: middle;\n",
       "    }\n",
       "\n",
       "    .dataframe tbody tr th {\n",
       "        vertical-align: top;\n",
       "    }\n",
       "\n",
       "    .dataframe thead th {\n",
       "        text-align: right;\n",
       "    }\n",
       "</style>\n",
       "<table border=\"1\" class=\"dataframe\">\n",
       "  <thead>\n",
       "    <tr style=\"text-align: right;\">\n",
       "      <th></th>\n",
       "      <th>hotel_star</th>\n",
       "      <th>hotel_address</th>\n",
       "      <th>reviews_count</th>\n",
       "      <th>quality</th>\n",
       "    </tr>\n",
       "  </thead>\n",
       "  <tbody>\n",
       "    <tr>\n",
       "      <th>0</th>\n",
       "      <td></td>\n",
       "      <td></td>\n",
       "      <td></td>\n",
       "      <td></td>\n",
       "    </tr>\n",
       "    <tr>\n",
       "      <th>1</th>\n",
       "      <td>4</td>\n",
       "      <td>\\nPiazza Duomo Angolo Via Mazzini , Milan City...</td>\n",
       "      <td>313 reviews</td>\n",
       "      <td>Wonderful</td>\n",
       "    </tr>\n",
       "    <tr>\n",
       "      <th>2</th>\n",
       "      <td>4</td>\n",
       "      <td>\\nVia Mazzini 4, Milan City Center, 20123 Mila...</td>\n",
       "      <td>987 reviews</td>\n",
       "      <td>Very Good</td>\n",
       "    </tr>\n",
       "    <tr>\n",
       "      <th>3</th>\n",
       "      <td>4</td>\n",
       "      <td>\\nSilvio Pellico 4, Milan City Center, 20121 M...</td>\n",
       "      <td>2,248 reviews</td>\n",
       "      <td>Wonderful</td>\n",
       "    </tr>\n",
       "    <tr>\n",
       "      <th>4</th>\n",
       "      <td>4</td>\n",
       "      <td>\\nVia Spadari, 1, Milan City Center, 20123 Mil...</td>\n",
       "      <td>1,871 reviews</td>\n",
       "      <td>Excellent</td>\n",
       "    </tr>\n",
       "    <tr>\n",
       "      <th>...</th>\n",
       "      <td>...</td>\n",
       "      <td>...</td>\n",
       "      <td>...</td>\n",
       "      <td>...</td>\n",
       "    </tr>\n",
       "    <tr>\n",
       "      <th>191</th>\n",
       "      <td>5</td>\n",
       "      <td>\\nVia Forcella 6, Navigli, 20144 Milan, Italy\\n</td>\n",
       "      <td>674 reviews</td>\n",
       "      <td>Wonderful</td>\n",
       "    </tr>\n",
       "    <tr>\n",
       "      <th>192</th>\n",
       "      <td>5</td>\n",
       "      <td>\\nVia Emilio Cornalia 7, Central Station, 2012...</td>\n",
       "      <td>692 reviews</td>\n",
       "      <td>Very Good</td>\n",
       "    </tr>\n",
       "    <tr>\n",
       "      <th>193</th>\n",
       "      <td>5</td>\n",
       "      <td>\\n6 Via Aristotile Fioravanti, Garibaldi Stati...</td>\n",
       "      <td>2,052 reviews</td>\n",
       "      <td>Excellent</td>\n",
       "    </tr>\n",
       "    <tr>\n",
       "      <th>194</th>\n",
       "      <td>5</td>\n",
       "      <td>\\nPiazza Duca D'Aosta 9, Central Station, 2012...</td>\n",
       "      <td>573 reviews</td>\n",
       "      <td>Excellent</td>\n",
       "    </tr>\n",
       "    <tr>\n",
       "      <th>195</th>\n",
       "      <td>5</td>\n",
       "      <td>\\nVia Masaccio 19, Fiera Milano City, 20149 Mi...</td>\n",
       "      <td>1,812 reviews</td>\n",
       "      <td>Very Good</td>\n",
       "    </tr>\n",
       "  </tbody>\n",
       "</table>\n",
       "<p>196 rows × 4 columns</p>\n",
       "</div>"
      ],
      "text/plain": [
       "    hotel_star                                      hotel_address  \\\n",
       "0                                                                   \n",
       "1            4  \\nPiazza Duomo Angolo Via Mazzini , Milan City...   \n",
       "2            4  \\nVia Mazzini 4, Milan City Center, 20123 Mila...   \n",
       "3            4  \\nSilvio Pellico 4, Milan City Center, 20121 M...   \n",
       "4            4  \\nVia Spadari, 1, Milan City Center, 20123 Mil...   \n",
       "..         ...                                                ...   \n",
       "191          5    \\nVia Forcella 6, Navigli, 20144 Milan, Italy\\n   \n",
       "192          5  \\nVia Emilio Cornalia 7, Central Station, 2012...   \n",
       "193          5  \\n6 Via Aristotile Fioravanti, Garibaldi Stati...   \n",
       "194          5  \\nPiazza Duca D'Aosta 9, Central Station, 2012...   \n",
       "195          5  \\nVia Masaccio 19, Fiera Milano City, 20149 Mi...   \n",
       "\n",
       "     reviews_count     quality  \n",
       "0                               \n",
       "1      313 reviews  Wonderful   \n",
       "2      987 reviews  Very Good   \n",
       "3    2,248 reviews  Wonderful   \n",
       "4    1,871 reviews  Excellent   \n",
       "..             ...         ...  \n",
       "191    674 reviews  Wonderful   \n",
       "192    692 reviews  Very Good   \n",
       "193  2,052 reviews  Excellent   \n",
       "194    573 reviews  Excellent   \n",
       "195  1,812 reviews  Very Good   \n",
       "\n",
       "[196 rows x 4 columns]"
      ]
     },
     "execution_count": 62,
     "metadata": {},
     "output_type": "execute_result"
    }
   ],
   "source": [
    "columns = np.array(['hotel_star', 'hotel_address','reviews_count','quality'])\n",
    "hotel_milan = pd.DataFrame(data=data_array_full, columns=columns)\n",
    "hotel_milan.replace('nan', np.NaN, inplace=True)\n",
    "hotel_milan = hotel_milan.dropna(thresh=2).reset_index(drop=True)\n",
    "hotel_milan"
   ]
  },
  {
   "cell_type": "code",
   "execution_count": null,
   "id": "3977f01e",
   "metadata": {},
   "outputs": [],
   "source": [
    "dupl_columns_df = list(hotel_milan.columns) # создаем лист из колонок\n",
    "\n",
    "# вычисляем количество дубликатов \n",
    "mask = hotel_milan.duplicated(subset=dupl_columns_df) \n",
    "hotel_duplicates_df = hotel_milan[mask]\n",
    "print(f'Число найденных дубликатов: {hotel_duplicates_df.shape[0]}')"
   ]
  },
  {
   "cell_type": "code",
   "execution_count": null,
   "id": "4d0efc12",
   "metadata": {},
   "outputs": [],
   "source": [
    "hotel_milan = hotel_milan.drop_duplicates(subset=dupl_columns_df)\n",
    "print(f'Результирующее число записей: {hotel_milan.shape[0]}')"
   ]
  },
  {
   "cell_type": "code",
   "execution_count": 71,
   "id": "2384f9f3",
   "metadata": {},
   "outputs": [
    {
     "data": {
      "text/plain": [
       "(386803, 57)"
      ]
     },
     "execution_count": 71,
     "metadata": {},
     "output_type": "execute_result"
    }
   ],
   "source": [
    "hotel_df = pd.read_csv('C:/Users/Dmitriy/Desktop/SkillFactory/project_3/hotels.csv', sep=',')\n",
    "hotel_df.shape"
   ]
  },
  {
   "cell_type": "code",
   "execution_count": 64,
   "id": "c60b0b72",
   "metadata": {},
   "outputs": [],
   "source": [
    "hotel_milan['hotel_address'] = hotel_milan['hotel_address'].apply(\n",
    "    lambda x: re.sub(\"[^0-9a-zA-Z]\",\" \",x).lower().split(' ')[:4]).apply(\n",
    "lambda x: ' '.join(x).replace(' ', ''))"
   ]
  },
  {
   "cell_type": "code",
   "execution_count": 73,
   "id": "e42f80ca",
   "metadata": {},
   "outputs": [],
   "source": [
    "hotel_df['hotel_address'] = hotel_df['hotel_address'].apply(\n",
    "    lambda x: x.lower().split(' ')[:4]).apply(lambda x: ' '.join(x).replace(' ', ''))"
   ]
  },
  {
   "cell_type": "code",
   "execution_count": 75,
   "id": "e1fc76ac",
   "metadata": {},
   "outputs": [],
   "source": [
    "hotel_df = hotel_df.merge(\n",
    "                hotel_milan,\n",
    "                on='hotel_address',\n",
    "                how='left')"
   ]
  },
  {
   "cell_type": "code",
   "execution_count": 76,
   "id": "fe053d0c",
   "metadata": {},
   "outputs": [
    {
     "data": {
      "text/plain": [
       "Unnamed: 0_y     18.205373\n",
       "hotel_star       18.205373\n",
       "reviews_count    18.205373\n",
       "quality          18.205373\n",
       "dtype: float64"
      ]
     },
     "execution_count": 76,
     "metadata": {},
     "output_type": "execute_result"
    }
   ],
   "source": [
    "null = hotel_df[hotel_df['city_hotel'] == 'Milan'].isnull().mean() * 100\n",
    "null_per = null[null > 0]\n",
    "null_per"
   ]
  },
  {
   "cell_type": "code",
   "execution_count": 1831,
   "id": "7b9a9425",
   "metadata": {},
   "outputs": [],
   "source": [
    "hotel_milan.to_csv('C:/Users/Dmitriy/Desktop/SkillFactory/project_3/parsing_hotels/hotel_milan.csv')"
   ]
  }
 ],
 "metadata": {
  "kernelspec": {
   "display_name": "Python 3 (ipykernel)",
   "language": "python",
   "name": "python3"
  },
  "language_info": {
   "codemirror_mode": {
    "name": "ipython",
    "version": 3
   },
   "file_extension": ".py",
   "mimetype": "text/x-python",
   "name": "python",
   "nbconvert_exporter": "python",
   "pygments_lexer": "ipython3",
   "version": "3.9.12"
  }
 },
 "nbformat": 4,
 "nbformat_minor": 5
}
